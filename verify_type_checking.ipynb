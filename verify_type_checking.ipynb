{
 "cells": [
  {
   "cell_type": "code",
   "execution_count": 1,
   "metadata": {},
   "outputs": [
    {
     "name": "stdout",
     "output_type": "stream",
     "text": [
      "Current ip.InteractiveTB.mode='Context'\n",
      "New ip.InteractiveTB.mode='Minimal'\n"
     ]
    }
   ],
   "source": [
    "%load_ext micropython_magic"
   ]
  },
  {
   "cell_type": "code",
   "execution_count": 2,
   "metadata": {},
   "outputs": [],
   "source": [
    "%mpy --verify"
   ]
  },
  {
   "cell_type": "code",
   "execution_count": 3,
   "metadata": {},
   "outputs": [
    {
     "data": {
      "text/plain": [
       "['Testing on micropython pyboard']"
      ]
     },
     "execution_count": 3,
     "metadata": {},
     "output_type": "execute_result"
    }
   ],
   "source": [
    "%mpy import sys;print(f\"Testing on {sys.implementation.name} {sys.platform}\")"
   ]
  },
  {
   "cell_type": "code",
   "execution_count": 4,
   "metadata": {},
   "outputs": [
    {
     "name": "stdout",
     "output_type": "stream",
     "text": [
      "cp mp_typing_min.mpy :typing.mpy\n"
     ]
    }
   ],
   "source": [
    "!mpy-cross mp_typing_min.py -O3\n",
    "!mpremote cp mp_typing_min.mpy :typing.mpy\n"
   ]
  },
  {
   "cell_type": "code",
   "execution_count": 14,
   "metadata": {},
   "outputs": [
    {
     "name": "stdout",
     "output_type": "stream",
     "text": [
      "5\n",
      "5\n"
     ]
    }
   ],
   "source": [
    "# %%micropython\n",
    "\n",
    "from typing import Protocol\n",
    "\n",
    "\n",
    "class Adder(Protocol):\n",
    "    def add(self, x, y): ...\n",
    "\n",
    "\n",
    "class IntAdder:\n",
    "    def add(self, x, y):\n",
    "        return x + y\n",
    "\n",
    "\n",
    "class FloatAdder:\n",
    "    def add(self, x, y):\n",
    "        return x + y\n",
    "\n",
    "\n",
    "def add(adder: Adder) -> None:\n",
    "    print(adder.add(2, 3))\n",
    "\n",
    "\n",
    "add(IntAdder())\n",
    "add(FloatAdder())"
   ]
  },
  {
   "cell_type": "code",
   "execution_count": 6,
   "metadata": {},
   "outputs": [
    {
     "name": "stdout",
     "output_type": "stream",
     "text": [
      "Polly wants a cracker\n",
      "None\n"
     ]
    }
   ],
   "source": [
    "# %%micropython\n",
    "\n",
    "from typing import List, Protocol\n",
    "\n",
    "l: List[int] = [1, 2, 3]\n",
    "\n",
    "\n",
    "class Speak(Protocol):\n",
    "    def speak(self): ...\n",
    "\n",
    "\n",
    "class Parrot:\n",
    "    def speak(self) -> None:\n",
    "        print(\"Polly wants a cracker\")\n",
    "\n",
    "\n",
    "def say_something(speaker: Speak) -> None:\n",
    "    speaker.speak()\n",
    "\n",
    "\n",
    "polly = Parrot()\n",
    "\n",
    "print(say_something(polly))"
   ]
  },
  {
   "cell_type": "code",
   "execution_count": 7,
   "metadata": {},
   "outputs": [],
   "source": [
    "# %%python3\n",
    "from typing import List, Protocol"
   ]
  },
  {
   "cell_type": "code",
   "execution_count": 8,
   "metadata": {},
   "outputs": [
    {
     "name": "stdout",
     "output_type": "stream",
     "text": [
      "cp mp_abc_min.mpy :abc.mpy\n"
     ]
    }
   ],
   "source": [
    "!mpy-cross mp_abc_min.py -O3\n",
    "!mpremote cp mp_abc_min.mpy :abc.mpy"
   ]
  },
  {
   "cell_type": "code",
   "execution_count": 9,
   "metadata": {},
   "outputs": [],
   "source": [
    "# %%micropython\n",
    "\n",
    "from abc import ABC, abstractmethod\n",
    "from math import pi\n",
    "\n",
    "\n",
    "class Shape(ABC):\n",
    "    @abstractmethod\n",
    "    def get_area(self) -> float:\n",
    "        pass\n",
    "\n",
    "    @abstractmethod\n",
    "    def get_perimeter(self) -> float:\n",
    "        pass\n",
    "\n",
    "\n",
    "class Circle(Shape):\n",
    "    def __init__(self, radius) -> None:\n",
    "        self.radius = radius\n",
    "\n",
    "    def get_area(self) -> float:\n",
    "        return pi * self.radius**2\n",
    "\n",
    "    def get_perimeter(self) -> float:\n",
    "        return 2 * pi * self.radius\n",
    "\n",
    "\n",
    "class Square(Shape):\n",
    "    def __init__(self, side) -> None:\n",
    "        self.side = side\n",
    "\n",
    "    def get_area(self) -> float:\n",
    "        return self.side**2\n",
    "\n",
    "    def get_perimeter(self) -> float:\n",
    "        return 4 * self.side"
   ]
  },
  {
   "cell_type": "code",
   "execution_count": 10,
   "metadata": {},
   "outputs": [],
   "source": [
    "# %%micropython\n",
    "\n",
    "from abc import ABCMeta\n",
    "\n",
    "\n",
    "# class MyABC(metaclass=ABCMeta):\n",
    "class MyABC(ABCMeta):\n",
    "    pass"
   ]
  },
  {
   "cell_type": "code",
   "execution_count": 11,
   "metadata": {},
   "outputs": [
    {
     "name": "stdout",
     "output_type": "stream",
     "text": [
      " Volume in drive D is DEV\n",
      " Volume Serial Number is E61F-E2CD\n",
      "\n",
      " Directory of d:\\mypython\\!-stubtestprojects\\rt_typing\n",
      "\n",
      "30-08-2024  21:53               116 mp_abc_min.mpy\n",
      "30-08-2024  21:53               324 mp_typing_min.mpy\n",
      "               2 File(s)            440 bytes\n",
      "               0 Dir(s)  470.708.424.704 bytes free\n"
     ]
    }
   ],
   "source": [
    "%ls *_min.mpy"
   ]
  },
  {
   "cell_type": "code",
   "execution_count": 12,
   "metadata": {},
   "outputs": [
    {
     "name": "stdout",
     "output_type": "stream",
     "text": [
      "\u001b[33m\u001b[1mWARNING \u001b[0m | \u001b[33m\u001b[1mTraceback (most recent call last):\u001b[0m\n",
      "\u001b[33m\u001b[1mWARNING \u001b[0m | \u001b[33m\u001b[1m  File \"<stdin>\", line 6, in <module>\u001b[0m\n",
      "\u001b[31m\u001b[1mERROR   \u001b[0m | \u001b[31m\u001b[1mTypeError: function doesn't take keyword arguments\n",
      "\u001b[0m\n"
     ]
    },
    {
     "ename": "MCUException",
     "evalue": "TypeError: function doesn't take keyword arguments\r\n",
     "output_type": "error",
     "traceback": [
      "\u001b[1;31mMCUException\u001b[0m\u001b[1;31m:\u001b[0m TypeError: function doesn't take keyword arguments\r\n\n"
     ]
    }
   ],
   "source": [
    "# %%micropython\n",
    "\n",
    "from abc import ABCMeta\n",
    "\n",
    "\n",
    "class MyABC(metaclass=ABCMeta):\n",
    "    pass"
   ]
  },
  {
   "cell_type": "code",
   "execution_count": null,
   "metadata": {},
   "outputs": [],
   "source": []
  }
 ],
 "metadata": {
  "kernelspec": {
   "display_name": ".venv",
   "language": "python",
   "name": "python3"
  },
  "language_info": {
   "codemirror_mode": {
    "name": "ipython",
    "version": 3
   },
   "file_extension": ".py",
   "mimetype": "text/x-python",
   "name": "python",
   "nbconvert_exporter": "python",
   "pygments_lexer": "ipython3",
   "version": "3.11.9"
  }
 },
 "nbformat": 4,
 "nbformat_minor": 2
}

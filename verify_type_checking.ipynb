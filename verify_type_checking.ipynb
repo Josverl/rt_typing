{
 "cells": [
  {
   "cell_type": "markdown",
   "metadata": {},
   "source": [
    "Notebook to perform tests of runtime type checking in MicroPython.\n"
   ]
  },
  {
   "cell_type": "code",
   "execution_count": 13,
   "metadata": {},
   "outputs": [
    {
     "name": "stdout",
     "output_type": "stream",
     "text": [
      "Defaulting to user installation because normal site-packages is not writeable\n",
      "Requirement already satisfied: micropython-magic in /home/jos/.local/lib/python3.10/site-packages (0.10.2)\n",
      "Requirement already satisfied: nbformat in /home/jos/.local/lib/python3.10/site-packages (5.10.4)\n",
      "Requirement already satisfied: ipykernel in /home/jos/.local/lib/python3.10/site-packages (6.29.5)\n",
      "Collecting mpy-cross\n",
      "  Downloading mpy_cross-1.23.0.post2-py2.py3-none-manylinux1_x86_64.whl (899 kB)\n",
      "\u001b[2K     \u001b[90m━━━━━━━━━━━━━━━━━━━━━━━━━━━━━━━━━━━━━━━\u001b[0m \u001b[32m899.6/899.6 KB\u001b[0m \u001b[31m1.5 MB/s\u001b[0m eta \u001b[36m0:00:00\u001b[0m00:01\u001b[0m00:01\u001b[0m\n",
      "\u001b[?25hRequirement already satisfied: mpremote<2.0.0,>=1.22.0 in /home/jos/.local/lib/python3.10/site-packages (from micropython-magic) (1.23.0)\n",
      "Requirement already satisfied: ipympl<0.10.0,>=0.9.3 in /home/jos/.local/lib/python3.10/site-packages (from micropython-magic) (0.9.4)\n",
      "Requirement already satisfied: loguru<0.8.0,>=0.7.2 in /home/jos/.local/lib/python3.10/site-packages (from micropython-magic) (0.7.2)\n",
      "Requirement already satisfied: jupyter-core!=5.0.*,>=4.12 in /home/jos/.local/lib/python3.10/site-packages (from nbformat) (5.7.2)\n",
      "Requirement already satisfied: traitlets>=5.1 in /home/jos/.local/lib/python3.10/site-packages (from nbformat) (5.14.3)\n",
      "Requirement already satisfied: fastjsonschema>=2.15 in /home/jos/.local/lib/python3.10/site-packages (from nbformat) (2.20.0)\n",
      "Requirement already satisfied: jsonschema>=2.6 in /usr/lib/python3/dist-packages (from nbformat) (3.2.0)\n",
      "Requirement already satisfied: pyzmq>=24 in /home/jos/.local/lib/python3.10/site-packages (from ipykernel) (26.2.0)\n",
      "Requirement already satisfied: matplotlib-inline>=0.1 in /home/jos/.local/lib/python3.10/site-packages (from ipykernel) (0.1.7)\n",
      "Requirement already satisfied: debugpy>=1.6.5 in /home/jos/.local/lib/python3.10/site-packages (from ipykernel) (1.8.6)\n",
      "Requirement already satisfied: jupyter-client>=6.1.12 in /home/jos/.local/lib/python3.10/site-packages (from ipykernel) (8.6.3)\n",
      "Requirement already satisfied: nest-asyncio in /home/jos/.local/lib/python3.10/site-packages (from ipykernel) (1.6.0)\n",
      "Requirement already satisfied: tornado>=6.1 in /home/jos/.local/lib/python3.10/site-packages (from ipykernel) (6.4.1)\n",
      "Requirement already satisfied: comm>=0.1.1 in /home/jos/.local/lib/python3.10/site-packages (from ipykernel) (0.2.2)\n",
      "Requirement already satisfied: psutil in /home/jos/.local/lib/python3.10/site-packages (from ipykernel) (6.0.0)\n",
      "Requirement already satisfied: ipython>=7.23.1 in /home/jos/.local/lib/python3.10/site-packages (from ipykernel) (8.28.0)\n",
      "Requirement already satisfied: packaging in /home/jos/.local/lib/python3.10/site-packages (from ipykernel) (24.1)\n",
      "Requirement already satisfied: numpy in /home/jos/.local/lib/python3.10/site-packages (from ipympl<0.10.0,>=0.9.3->micropython-magic) (2.1.2)\n",
      "Requirement already satisfied: matplotlib<4,>=3.4.0 in /home/jos/.local/lib/python3.10/site-packages (from ipympl<0.10.0,>=0.9.3->micropython-magic) (3.9.2)\n",
      "Requirement already satisfied: pillow in /home/jos/.local/lib/python3.10/site-packages (from ipympl<0.10.0,>=0.9.3->micropython-magic) (10.4.0)\n",
      "Requirement already satisfied: ipywidgets<9,>=7.6.0 in /home/jos/.local/lib/python3.10/site-packages (from ipympl<0.10.0,>=0.9.3->micropython-magic) (8.1.5)\n",
      "Requirement already satisfied: ipython-genutils in /home/jos/.local/lib/python3.10/site-packages (from ipympl<0.10.0,>=0.9.3->micropython-magic) (0.2.0)\n",
      "Requirement already satisfied: typing-extensions>=4.6 in /home/jos/.local/lib/python3.10/site-packages (from ipython>=7.23.1->ipykernel) (4.12.2)\n",
      "Requirement already satisfied: decorator in /home/jos/.local/lib/python3.10/site-packages (from ipython>=7.23.1->ipykernel) (5.1.1)\n",
      "Requirement already satisfied: jedi>=0.16 in /home/jos/.local/lib/python3.10/site-packages (from ipython>=7.23.1->ipykernel) (0.19.1)\n",
      "Requirement already satisfied: stack-data in /home/jos/.local/lib/python3.10/site-packages (from ipython>=7.23.1->ipykernel) (0.6.3)\n",
      "Requirement already satisfied: pexpect>4.3 in /home/jos/.local/lib/python3.10/site-packages (from ipython>=7.23.1->ipykernel) (4.9.0)\n",
      "Requirement already satisfied: exceptiongroup in /home/jos/.local/lib/python3.10/site-packages (from ipython>=7.23.1->ipykernel) (1.2.2)\n",
      "Requirement already satisfied: pygments>=2.4.0 in /home/jos/.local/lib/python3.10/site-packages (from ipython>=7.23.1->ipykernel) (2.18.0)\n",
      "Requirement already satisfied: prompt-toolkit<3.1.0,>=3.0.41 in /home/jos/.local/lib/python3.10/site-packages (from ipython>=7.23.1->ipykernel) (3.0.48)\n",
      "Requirement already satisfied: python-dateutil>=2.8.2 in /home/jos/.local/lib/python3.10/site-packages (from jupyter-client>=6.1.12->ipykernel) (2.9.0.post0)\n",
      "Requirement already satisfied: platformdirs>=2.5 in /home/jos/.local/lib/python3.10/site-packages (from jupyter-core!=5.0.*,>=4.12->nbformat) (4.2.2)\n",
      "Requirement already satisfied: pyserial>=3.3 in /usr/lib/python3/dist-packages (from mpremote<2.0.0,>=1.22.0->micropython-magic) (3.5)\n",
      "Requirement already satisfied: jupyterlab-widgets~=3.0.12 in /home/jos/.local/lib/python3.10/site-packages (from ipywidgets<9,>=7.6.0->ipympl<0.10.0,>=0.9.3->micropython-magic) (3.0.13)\n",
      "Requirement already satisfied: widgetsnbextension~=4.0.12 in /home/jos/.local/lib/python3.10/site-packages (from ipywidgets<9,>=7.6.0->ipympl<0.10.0,>=0.9.3->micropython-magic) (4.0.13)\n",
      "Requirement already satisfied: parso<0.9.0,>=0.8.3 in /home/jos/.local/lib/python3.10/site-packages (from jedi>=0.16->ipython>=7.23.1->ipykernel) (0.8.4)\n",
      "Requirement already satisfied: contourpy>=1.0.1 in /home/jos/.local/lib/python3.10/site-packages (from matplotlib<4,>=3.4.0->ipympl<0.10.0,>=0.9.3->micropython-magic) (1.3.0)\n",
      "Requirement already satisfied: cycler>=0.10 in /home/jos/.local/lib/python3.10/site-packages (from matplotlib<4,>=3.4.0->ipympl<0.10.0,>=0.9.3->micropython-magic) (0.12.1)\n",
      "Requirement already satisfied: fonttools>=4.22.0 in /home/jos/.local/lib/python3.10/site-packages (from matplotlib<4,>=3.4.0->ipympl<0.10.0,>=0.9.3->micropython-magic) (4.54.1)\n",
      "Requirement already satisfied: pyparsing>=2.3.1 in /usr/lib/python3/dist-packages (from matplotlib<4,>=3.4.0->ipympl<0.10.0,>=0.9.3->micropython-magic) (2.4.7)\n",
      "Requirement already satisfied: kiwisolver>=1.3.1 in /home/jos/.local/lib/python3.10/site-packages (from matplotlib<4,>=3.4.0->ipympl<0.10.0,>=0.9.3->micropython-magic) (1.4.7)\n",
      "Requirement already satisfied: ptyprocess>=0.5 in /home/jos/.local/lib/python3.10/site-packages (from pexpect>4.3->ipython>=7.23.1->ipykernel) (0.7.0)\n",
      "Requirement already satisfied: wcwidth in /home/jos/.local/lib/python3.10/site-packages (from prompt-toolkit<3.1.0,>=3.0.41->ipython>=7.23.1->ipykernel) (0.2.13)\n",
      "Requirement already satisfied: six>=1.5 in /usr/lib/python3/dist-packages (from python-dateutil>=2.8.2->jupyter-client>=6.1.12->ipykernel) (1.16.0)\n",
      "Requirement already satisfied: executing>=1.2.0 in /home/jos/.local/lib/python3.10/site-packages (from stack-data->ipython>=7.23.1->ipykernel) (2.1.0)\n",
      "Requirement already satisfied: asttokens>=2.1.0 in /home/jos/.local/lib/python3.10/site-packages (from stack-data->ipython>=7.23.1->ipykernel) (2.4.1)\n",
      "Requirement already satisfied: pure-eval in /home/jos/.local/lib/python3.10/site-packages (from stack-data->ipython>=7.23.1->ipykernel) (0.2.3)\n",
      "Installing collected packages: mpy-cross\n",
      "Successfully installed mpy-cross-1.23.0.post2\n",
      "Note: you may need to restart the kernel to use updated packages.\n",
      "The micropython_magic extension is already loaded. To reload it, use:\n",
      "  %reload_ext micropython_magic\n"
     ]
    }
   ],
   "source": [
    "# %pip install micropython-magic nbformat ipykernel mpy-cross\n",
    "\n",
    "%load_ext micropython_magic"
   ]
  },
  {
   "cell_type": "markdown",
   "metadata": {},
   "source": [
    "# Deploy to board"
   ]
  },
  {
   "cell_type": "code",
   "execution_count": 11,
   "metadata": {},
   "outputs": [
    {
     "name": "stdout",
     "output_type": "stream",
     "text": [
      "\u001b[2K5l\n",
      "\u001b[2KUpdating board info \u001b[90m━━━━━━━━━━━━━━━━━━━━━━━━━━━━━━━━━━━━━━━━\u001b[0m \u001b[35m100%\u001b[0m \u001b[33m0:00:00\u001b[0m\n",
      "\u001b[1A\u001b[2K\u001b[35m                        Connected boards                        \u001b[0m\n",
      "┏━━━━━━━┳━━━━┳━━━━━━━━━━━━━━━━━━━━━━━━━━━━━┳━━━━━━━━━━━━━━━┳━━━┓\n",
      "┃\u001b[1;35mSer.   \u001b[0m┃\u001b[1;35mFam.\u001b[0m┃\u001b[1;35mBoard                        \u001b[0m┃\u001b[1;35mVersion        \u001b[0m┃\u001b[1;35mBld\u001b[0m┃\n",
      "┡━━━━━━━╇━━━━╇━━━━━━━━━━━━━━━━━━━━━━━━━━━━━╇━━━━━━━━━━━━━━━╇━━━┩\n",
      "│ttyACM1│upy │RPI_PICO                     │v1.24.0-preview│364│\n",
      "│       │    │\u001b[3;96mRaspberry Pi Pico with RP2040\u001b[0m│               │   │\n",
      "└───────┴────┴─────────────────────────────┴───────────────┴───┘\n"
     ]
    }
   ],
   "source": [
    "!mpflash list"
   ]
  },
  {
   "cell_type": "code",
   "execution_count": 14,
   "metadata": {},
   "outputs": [
    {
     "name": "stdout",
     "output_type": "stream",
     "text": [
      "Install __future__\n",
      "Installing __future__ (latest) from https://micropython.org/pi/v2 to /lib\n",
      "Installing: /lib/__future__.mpy\n",
      "Done\n",
      "/mnt/d/mypython/!-stubtestprojects/rt_typing/mp\n",
      "/mnt/d/mypython/!-stubtestprojects/rt_typing\n",
      "ls :/\n",
      "           0 lib/\n",
      "ls :/lib\n",
      "         202 __future__.mpy\n",
      "          70 abc.mpy\n",
      "           0 collections/\n",
      "         394 typing.mpy\n",
      "          66 typing_extensions.mpy\n",
      "ls :/lib/collections\n",
      "          82 abc.mpy\n",
      "True\n"
     ]
    }
   ],
   "source": [
    "\n",
    "%run ./deploy.ipynb"
   ]
  },
  {
   "cell_type": "code",
   "execution_count": 15,
   "metadata": {},
   "outputs": [
    {
     "data": {
      "text/plain": [
       "['Testing on micropython rp2']"
      ]
     },
     "execution_count": 15,
     "metadata": {},
     "output_type": "execute_result"
    }
   ],
   "source": [
    "%mpy import sys;print(f\"Testing on {sys.implementation.name} {sys.platform}\")"
   ]
  },
  {
   "cell_type": "markdown",
   "metadata": {},
   "source": [
    "# Type annotation tests"
   ]
  },
  {
   "cell_type": "code",
   "execution_count": 5,
   "metadata": {},
   "outputs": [
    {
     "name": "stdout",
     "output_type": "stream",
     "text": [
      "True\n"
     ]
    }
   ],
   "source": [
    "# %%micropython --reset\n",
    "import __future__\n",
    "import typing\n",
    "import typing_extensions\n",
    "import abc"
   ]
  },
  {
   "cell_type": "markdown",
   "metadata": {},
   "source": [
    "## module: typing"
   ]
  },
  {
   "cell_type": "markdown",
   "metadata": {},
   "source": [
    "### typing.protocol"
   ]
  },
  {
   "cell_type": "code",
   "execution_count": 6,
   "metadata": {},
   "outputs": [
    {
     "name": "stdout",
     "output_type": "stream",
     "text": [
      "True\n",
      "5\n",
      "5\n"
     ]
    }
   ],
   "source": [
    "# %%micropython --reset\n",
    "\n",
    "from typing import Protocol\n",
    "\n",
    "\n",
    "class Adder(Protocol):\n",
    "    def add(self, x, y): ...\n",
    "\n",
    "\n",
    "class IntAdder:\n",
    "    def add(self, x, y):\n",
    "        return x + y\n",
    "\n",
    "\n",
    "class FloatAdder:\n",
    "    def add(self, x, y):\n",
    "        return x + y\n",
    "\n",
    "\n",
    "def add(adder: Adder) -> None:\n",
    "    print(adder.add(2, 3))\n",
    "\n",
    "\n",
    "add(IntAdder())\n",
    "add(FloatAdder())"
   ]
  },
  {
   "cell_type": "code",
   "execution_count": 7,
   "metadata": {},
   "outputs": [
    {
     "name": "stdout",
     "output_type": "stream",
     "text": [
      "Polly wants a cracker\n",
      "None\n"
     ]
    }
   ],
   "source": [
    "# %%micropython\n",
    "\n",
    "from typing import List, Protocol\n",
    "\n",
    "l: List[int] = [1, 2, 3]\n",
    "\n",
    "\n",
    "class Speak(Protocol):\n",
    "    def speak(self): ...\n",
    "\n",
    "\n",
    "class Parrot:\n",
    "    def speak(self) -> None:\n",
    "        print(\"Polly wants a cracker\")\n",
    "\n",
    "\n",
    "def say_something(speaker: Speak) -> None:\n",
    "    speaker.speak()\n",
    "\n",
    "\n",
    "polly = Parrot()\n",
    "\n",
    "print(say_something(polly))"
   ]
  },
  {
   "cell_type": "markdown",
   "metadata": {},
   "source": [
    "### typing.NewType"
   ]
  },
  {
   "cell_type": "code",
   "execution_count": 11,
   "metadata": {},
   "outputs": [
    {
     "name": "stdout",
     "output_type": "stream",
     "text": [
      "524313\n"
     ]
    }
   ],
   "source": [
    "# %%micropython\n",
    "\n",
    "from typing import NewType\n",
    "\n",
    "UserId = NewType(\"UserId\", int)\n",
    "some_id = UserId(524313)\n",
    "\n",
    "print(some_id)\n",
    "\n",
    "assert isinstance(some_id, int)\n",
    "\n",
    "# CPython\n",
    "# MicroPython typing.py\n",
    "# ----------------------\n",
    "# 524313\n",
    "\n",
    "# Micropython - modtyping.c\n",
    "# -------------------------\n",
    "# <any_call>\n",
    "# \u001b[33m\u001b[1mWARNING \u001b[0m | \u001b[33m\u001b[1mTraceback (most recent call last):\u001b[0m\n",
    "# \u001b[33m\u001b[1mWARNING \u001b[0m | \u001b[33m\u001b[1m  File \"<stdin>\", line 10, in <module>\u001b[0m\n",
    "# \u001b[31m\u001b[1mERROR   \u001b[0m | \u001b[31m\u001b[1mAssertionError:\n",
    "# \u001b[0m"
   ]
  },
  {
   "cell_type": "markdown",
   "metadata": {},
   "source": [
    "### typing.Any"
   ]
  },
  {
   "cell_type": "code",
   "execution_count": 13,
   "metadata": {},
   "outputs": [
    {
     "name": "stdout",
     "output_type": "stream",
     "text": [
      "21\n",
      "21\n"
     ]
    }
   ],
   "source": [
    "# %%micropython\n",
    "\n",
    "from typing import Any\n",
    "\n",
    "a: Any = None\n",
    "a = []  # OK\n",
    "a = 2  # OK\n",
    "\n",
    "s: str = \"\"\n",
    "s = a  # OK\n",
    "\n",
    "\n",
    "def foo(item: Any) -> int:\n",
    "    # Passes type checking; 'item' could be any type,\n",
    "    # and that type might have a 'bar' method\n",
    "    item.bar()\n",
    "    return 42\n",
    "\n",
    "\n",
    "def hash_b(item: Any) -> int:\n",
    "    try:\n",
    "        # Passes type checking\n",
    "        item.magic()\n",
    "        return foo(item)\n",
    "    except AttributeError:\n",
    "        # just ignore any error for this test\n",
    "        pass\n",
    "    return 21\n",
    "    ...\n",
    "\n",
    "\n",
    "# Passes type checking, since Any is compatible with all types\n",
    "print(hash_b(42))\n",
    "print(hash_b(\"foo\"))"
   ]
  },
  {
   "cell_type": "markdown",
   "metadata": {},
   "source": [
    "### typing.AnyString"
   ]
  },
  {
   "cell_type": "code",
   "execution_count": 14,
   "metadata": {
    "tags": [
     "Raises-Exception"
    ]
   },
   "outputs": [
    {
     "name": "stdout",
     "output_type": "stream",
     "text": [
      "OK, expected: unsupported types for __add__: 'str', 'bytes'\n"
     ]
    }
   ],
   "source": [
    "# %%micropython\n",
    "\n",
    "from typing import AnyStr\n",
    "\n",
    "\n",
    "def concat(a: AnyStr, b: AnyStr) -> AnyStr:\n",
    "    return a + b\n",
    "\n",
    "\n",
    "concat(\"foo\", \"bar\")  # OK, output has type 'str'\n",
    "concat(b\"foo\", b\"bar\")  # OK, output has type 'bytes'\n",
    "try:\n",
    "    concat(\"foo\", b\"bar\")  # Error, cannot mix str and bytes\n",
    "except TypeError as e:\n",
    "    print(\"OK, expected:\", e)"
   ]
  },
  {
   "cell_type": "markdown",
   "metadata": {},
   "source": [
    "### typing.LiteralString"
   ]
  },
  {
   "cell_type": "code",
   "execution_count": 15,
   "metadata": {},
   "outputs": [],
   "source": [
    "# %%micropython\n",
    "\n",
    "from typing import LiteralString\n",
    "\n",
    "\n",
    "def run_query(sql: LiteralString) -> None: ...\n",
    "\n",
    "\n",
    "def caller(arbitrary_string: str, literal_string: LiteralString) -> None:\n",
    "    run_query(\"SELECT * FROM students\")  # OK\n",
    "    run_query(literal_string)  # OK\n",
    "    run_query(\"SELECT * FROM \" + literal_string)  # OK\n",
    "    run_query(arbitrary_string)  # type checker error\n",
    "    run_query(f\"SELECT * FROM students WHERE name = {arbitrary_string}\")  # type checker error\n",
    "\n",
    "    assert isinstance(literal_string, str), \"literal_string should be a string\"\n",
    "    assert isinstance(arbitrary_string, str), \"arbitrary_string should be a string\"\n",
    "\n",
    "\n",
    "some_str = \"a\" * 1000\n",
    "literal_str = \"drop * from tables\"\n",
    "\n",
    "caller(some_str, literal_str)"
   ]
  },
  {
   "cell_type": "markdown",
   "metadata": {},
   "source": [
    "### typing.reveal_type"
   ]
  },
  {
   "cell_type": "code",
   "execution_count": 17,
   "metadata": {},
   "outputs": [
    {
     "name": "stdout",
     "output_type": "stream",
     "text": [
      "Foo\n",
      "<Foo object at 2000ab90>\n",
      "SubclassOfFoo\n",
      "<SubclassOfFoo object at 2000aba0>\n",
      "Foo\n",
      "<Foo object at 2000b080>\n",
      "SubclassOfFoo\n",
      "<SubclassOfFoo object at 2000b090>\n"
     ]
    }
   ],
   "source": [
    "# %%micropython\n",
    "\n",
    "from typing import Self, reveal_type\n",
    "\n",
    "\n",
    "class Foo:\n",
    "    def return_self(self) -> Self:\n",
    "        ...\n",
    "        return self\n",
    "\n",
    "\n",
    "class SubclassOfFoo(Foo):\n",
    "    pass\n",
    "\n",
    "\n",
    "# reveal type does not work in micropython\n",
    "\n",
    "print(reveal_type(Foo().return_self()))  # Revealed type is \"Foo\"\n",
    "print(reveal_type(SubclassOfFoo().return_self()))  # Revealed type is \"SubclassOfFoo\"\n",
    "\n",
    "# Python\n",
    "# ----------------------\n",
    "# %% micropython\n",
    "\n",
    "from typing import Self, reveal_type\n",
    "\n",
    "\n",
    "class Foo:\n",
    "    def return_self(self) -> Self:\n",
    "        ...\n",
    "        return self\n",
    "\n",
    "\n",
    "class SubclassOfFoo(Foo):\n",
    "    pass\n",
    "\n",
    "\n",
    "# reveal type does not work in micropython\n",
    "\n",
    "print(reveal_type(Foo().return_self()))  # Revealed type is \"Foo\"\n",
    "print(reveal_type(SubclassOfFoo().return_self()))  # Revealed type is \"SubclassOfFoo\"\n",
    "\n",
    "# MicroPython typing.py\n",
    "# ----------------------\n",
    "# Foo\n",
    "# <Foo object at 20007850>\n",
    "# SubclassOfFoo\n",
    "# <SubclassOfFoo object at 20007860>\n",
    "\n",
    "# MicroPython typing.py\n",
    "# ----------------------\n",
    "# Foo\n",
    "# <Foo object at 20007850>\n",
    "# SubclassOfFoo\n",
    "# <SubclassOfFoo object at 20007860>\n",
    "\n",
    "# Micropython - modtyping.c\n",
    "# -------------------------\n",
    "# <any_call>\n",
    "# <any_call>\n",
    "# <any_call>\n",
    "# <any_call>"
   ]
  },
  {
   "cell_type": "markdown",
   "metadata": {},
   "source": [
    "### typing.@no_type_check"
   ]
  },
  {
   "cell_type": "code",
   "execution_count": 18,
   "metadata": {},
   "outputs": [
    {
     "name": "stdout",
     "output_type": "stream",
     "text": [
      "42\n"
     ]
    }
   ],
   "source": [
    "# %%micropython\n",
    "\n",
    "from typing import no_type_check\n",
    "\n",
    "\n",
    "@no_type_check\n",
    "def foo(x: int) -> str:\n",
    "    return x\n",
    "\n",
    "\n",
    "print(foo(\"42\"))\n",
    "\n",
    "# MicroPython typing.py\n",
    "# ----------------------\n",
    "# 42\n",
    "# MicroPython typing.py\n",
    "# ----------------------\n",
    "# 42\n",
    "\n",
    "# Micropython - modtyping.c\n",
    "# -------------------------\n",
    "# <any_call>"
   ]
  },
  {
   "cell_type": "code",
   "execution_count": null,
   "metadata": {},
   "outputs": [],
   "source": [
    "# %%micropython\n",
    "\n",
    "from typing import no_type_check\n",
    "\n",
    "\n",
    "@no_type_check\n",
    "def foo(x: int) -> str:\n",
    "    return x\n",
    "\n",
    "\n",
    "print(foo(\"42\"))\n",
    "assert foo(42) == 42\n",
    "\n",
    "# CPython\n",
    "# MicroPython typing.py\n",
    "# ----------------------\n",
    "# 42\n",
    "\n",
    "# Micropython - modtyping.c\n",
    "# ----------------------\n",
    "# <any_call>\n",
    "# WARNING  | Traceback (most recent call last):\n",
    "# WARNING  |   File \"<stdin>\", line 12, in <module>\n",
    "# ERROR    | AssertionError:"
   ]
  },
  {
   "cell_type": "markdown",
   "metadata": {},
   "source": [
    "### typing.@overload"
   ]
  },
  {
   "cell_type": "code",
   "execution_count": 19,
   "metadata": {},
   "outputs": [
    {
     "name": "stdout",
     "output_type": "stream",
     "text": [
      "42\n"
     ]
    }
   ],
   "source": [
    "# %%micropython\n",
    "\n",
    "from typing import overload\n",
    "\n",
    "\n",
    "@overload\n",
    "def bar(x: int) -> str: ...\n",
    "\n",
    "\n",
    "@overload\n",
    "def bar(x: str) -> int: ...\n",
    "\n",
    "\n",
    "def bar(x):\n",
    "    return x\n",
    "\n",
    "\n",
    "print(bar(42))"
   ]
  },
  {
   "cell_type": "markdown",
   "metadata": {},
   "source": [
    "### typing.NewType"
   ]
  },
  {
   "cell_type": "code",
   "execution_count": 20,
   "metadata": {},
   "outputs": [
    {
     "name": "stdout",
     "output_type": "stream",
     "text": [
      "524313\n"
     ]
    }
   ],
   "source": [
    "# %%micropython\n",
    "\n",
    "from typing import NewType\n",
    "\n",
    "UserId = NewType(\"UserId\", int)\n",
    "some_id = UserId(524313)\n",
    "\n",
    "print(some_id)\n",
    "\n",
    "assert isinstance(some_id, int)\n",
    "\n",
    "\n",
    "# MicroPython typing.py\n",
    "# ----------------------\n",
    "# 524313\n",
    "\n",
    "\n",
    "# MicroPython typing.py\n",
    "# ----------------------\n",
    "# 524313\n",
    "\n",
    "# Micropython - modtyping.c\n",
    "# -------------------------\n",
    "# <any_call>\n",
    "# WARNING |mTraceback (most recent call last):\n",
    "# WARNING |m  File \"<stdin>\", line 10, in <module>\n",
    "# ERROR   |mAssertionError:\n",
    "#"
   ]
  },
  {
   "cell_type": "markdown",
   "metadata": {},
   "source": [
    "### typing.TypeDict -- TODO"
   ]
  },
  {
   "cell_type": "code",
   "execution_count": 19,
   "metadata": {},
   "outputs": [
    {
     "name": "stdout",
     "output_type": "stream",
     "text": [
      "Handled according to spec\n"
     ]
    }
   ],
   "source": [
    "# %%micropython\n",
    "\n",
    "\"\"\"\n",
    "Tests for basic usage of TypedDict.\n",
    "\"\"\"\n",
    "\n",
    "from typing import TypeVar, TypedDict\n",
    "\n",
    "\n",
    "class Movie(TypedDict):\n",
    "    name: str\n",
    "    year: int\n",
    "\n",
    "\n",
    "movie: Movie = {\"name\": \"Blade Runner\", \"year\": 1982}\n",
    "\n",
    "\n",
    "def record_movie(movie: Movie) -> None:\n",
    "    ...\n",
    "\n",
    "\n",
    "record_movie({\"name\": \"Blade Runner\", \"year\": 1982})\n",
    "\n",
    "\n",
    "movie[\"director\"] = \"Ridley Scott\"  # E: invalid key 'director'\n",
    "movie[\"year\"] = \"1982\"  # E: invalid value type (\"int\" expected)\n",
    "\n",
    "# The code below should be rejected, since 'title' is not a valid key,\n",
    "# and the 'name' key is missing:\n",
    "movie2: Movie = {\"title\": \"Blade Runner\", \"year\": 1982}  # E\n",
    "\n",
    "m = Movie(name='Blade Runner', year=1982)\n",
    "\n",
    "\n",
    "# > TypedDict type objects cannot be used in isinstance() tests such as\n",
    "# > isinstance(d, Movie).\n",
    "try: \n",
    "    if isinstance(movie, Movie):  # E\n",
    "        pass\n",
    "except TypeError as e:\n",
    "    print(\"Handled according to spec\")\n",
    "\n",
    "# TypedDict should not be allowed as a bound for a TypeVar.\n",
    "T = TypeVar(\"T\", bound=TypedDict) # E"
   ]
  },
  {
   "cell_type": "markdown",
   "metadata": {},
   "source": [
    "### typing.TypedDict - Required/NotRequired - FAIL"
   ]
  },
  {
   "cell_type": "code",
   "execution_count": 27,
   "metadata": {},
   "outputs": [
    {
     "name": "stdout",
     "output_type": "stream",
     "text": [
      "\u001b[33m\u001b[1mWARNING \u001b[0m | \u001b[33m\u001b[1mTraceback (most recent call last):\u001b[0m\n",
      "\u001b[33m\u001b[1mWARNING \u001b[0m | \u001b[33m\u001b[1m  File \"<stdin>\", line 28, in <module>\u001b[0m\n",
      "\u001b[31m\u001b[1mERROR   \u001b[0m | \u001b[31m\u001b[1mTypeError: function doesn't take keyword arguments\n",
      "\u001b[0m\n"
     ]
    },
    {
     "ename": "MCUException",
     "evalue": "TypeError: function doesn't take keyword arguments\r\n",
     "output_type": "error",
     "traceback": [
      "\u001b[0;31mMCUException\u001b[0m\u001b[0;31m:\u001b[0m TypeError: function doesn't take keyword arguments\r\n\n"
     ]
    }
   ],
   "source": [
    "# %%micropython\n",
    "# https://github.com/python/typing/blob/main/conformance/tests/typeddicts_required.py\n",
    "\"\"\"\n",
    "Tests the Required and NotRequired special forms.\n",
    "\"\"\"\n",
    "\n",
    "# Specification: https://typing.readthedocs.io/en/latest/spec/typeddict.html#required-and-notrequired\n",
    "\n",
    "from typing import Annotated, NotRequired, Required\n",
    "\n",
    "from collections.abc import ABC as TypedDict\n",
    "\n",
    "\n",
    "# Required and NotRequired are valid only within a TypedDict.\n",
    "class NotTypedDict:\n",
    "    x: Required[int]  # E: Required not allowed in this context\n",
    "\n",
    "    def __init__(self, x: int) -> None:\n",
    "        self.x = x\n",
    "\n",
    "\n",
    "def func1(\n",
    "    x: NotRequired[int],  # E: NotRequired not allowed in this context\n",
    ") -> None:\n",
    "    pass\n",
    "\n",
    "\n",
    "class TD1(TypedDict, total=False):\n",
    "    a: int\n",
    "\n",
    "\n",
    "class TD2(TD1, total=True):\n",
    "    b: int\n",
    "\n",
    "\n",
    "class TD3(TypedDict):\n",
    "    a: NotRequired[int]\n",
    "    b: Required[int]\n",
    "\n",
    "\n",
    "# class TD4(TypedDict, total=False):\n",
    "#     a: int\n",
    "#     b: Required[int]\n",
    "\n",
    "\n",
    "# class TD5(TypedDict, total=True):\n",
    "#     a: NotRequired[int]\n",
    "#     b: int\n",
    "\n",
    "\n",
    "# td3: TD3 = {\"b\": 0}\n",
    "# td4: TD4 = {\"b\": 0}\n",
    "# td5: TD5 = {\"b\": 0}\n",
    "\n",
    "# # These are all equivalent types, so they should be\n",
    "# # bidirectionally type compatible.\n",
    "# td3 = td4\n",
    "# td3 = td5\n",
    "# td4 = td3\n",
    "# td4 = td5\n",
    "# td5 = td3\n",
    "# td5 = td4\n",
    "\n",
    "\n",
    "# class TD6(TypedDict):\n",
    "#     a: Required[Required[int]]  # E: Nesting not allowed\n",
    "#     b: Required[NotRequired[int]]  # E: Nesting not allowed\n",
    "\n",
    "\n",
    "# class TD7(TypedDict):\n",
    "#     # > Required[] and NotRequired[] can be used with Annotated[], in any nesting order.\n",
    "#     x: Annotated[Required[int], \"\"]\n",
    "#     y: Required[Annotated[int, \"\"]]\n",
    "#     z: Annotated[Required[Annotated[int, \"\"]], \"\"]\n",
    "\n",
    "\n",
    "# RecursiveMovie = TypedDict(\n",
    "#     \"RecursiveMovie\", {\"title\": Required[str], \"predecessor\": NotRequired[\"RecursiveMovie\"]}\n",
    "# )\n",
    "\n",
    "# movie: RecursiveMovie = {\"title\": \"Beethoven 3\", \"predecessor\": {\"title\": \"Beethoven 2\"}}\n"
   ]
  },
  {
   "cell_type": "markdown",
   "metadata": {},
   "source": [
    "### typing.NamedTuple -- TODO"
   ]
  },
  {
   "cell_type": "markdown",
   "metadata": {},
   "source": [
    "### typing.TypeVar"
   ]
  },
  {
   "cell_type": "code",
   "execution_count": 17,
   "metadata": {},
   "outputs": [
    {
     "name": "stdout",
     "output_type": "stream",
     "text": [
      "a\n",
      "1\n"
     ]
    }
   ],
   "source": [
    "# CPython\n",
    "from typing import List, TypeVar\n",
    "\n",
    "T = TypeVar(\"T\")\n",
    "\n",
    "\n",
    "def first(container: List[T]) -> T:\n",
    "    return container[0]\n",
    "\n",
    "\n",
    "list_one: List[str] = [\"a\", \"b\", \"c\"]\n",
    "print(first(list_one))\n",
    "\n",
    "list_two: List[int] = [1, 2, 3]\n",
    "print(first(list_two))"
   ]
  },
  {
   "cell_type": "code",
   "execution_count": 16,
   "metadata": {},
   "outputs": [
    {
     "name": "stdout",
     "output_type": "stream",
     "text": [
      "a\n",
      "1\n"
     ]
    }
   ],
   "source": [
    "# %%micropython\n",
    "from typing import List, TypeVar\n",
    "\n",
    "T = TypeVar(\"T\")\n",
    "\n",
    "\n",
    "def first(container: List[T]) -> T:\n",
    "    return container[0]\n",
    "\n",
    "\n",
    "list_one: List[str] = [\"a\", \"b\", \"c\"]\n",
    "print(first(list_one))\n",
    "\n",
    "list_two: List[int] = [1, 2, 3]\n",
    "print(first(list_two))"
   ]
  },
  {
   "cell_type": "markdown",
   "metadata": {},
   "source": [
    "### typing.ParamSpec - TODO:"
   ]
  },
  {
   "cell_type": "markdown",
   "metadata": {},
   "source": [
    "### typing.Generator"
   ]
  },
  {
   "cell_type": "code",
   "execution_count": 21,
   "metadata": {},
   "outputs": [
    {
     "name": "stdout",
     "output_type": "stream",
     "text": [
      "0\n"
     ]
    }
   ],
   "source": [
    "# %%micropython\n",
    "\n",
    "from typing import Generator\n",
    "\n",
    "\n",
    "def echo_round() -> Generator[int, float, str]:\n",
    "    sent = yield 0\n",
    "    while sent >= 0:\n",
    "        sent = yield round(sent)\n",
    "    return \"Done\"\n",
    "\n",
    "\n",
    "e = echo_round()\n",
    "print(next(e))"
   ]
  },
  {
   "cell_type": "markdown",
   "metadata": {},
   "source": [
    "### typing.LiteralString"
   ]
  },
  {
   "cell_type": "code",
   "execution_count": 22,
   "metadata": {},
   "outputs": [],
   "source": [
    "# %%micropython\n",
    "\n",
    "from typing import LiteralString\n",
    "\n",
    "\n",
    "def run_query(sql: LiteralString) -> None: ...\n",
    "\n",
    "\n",
    "def caller(arbitrary_string: str, literal_string: LiteralString) -> None:\n",
    "    run_query(\"SELECT * FROM students\")  # OK\n",
    "    run_query(literal_string)  # OK\n",
    "    run_query(\"SELECT * FROM \" + literal_string)  # OK\n",
    "    run_query(arbitrary_string)  # type checker error\n",
    "    run_query(f\"SELECT * FROM students WHERE name = {arbitrary_string}\")  # type checker error\n",
    "\n",
    "\n",
    "some_str = \"a\" * 1000\n",
    "literal_str = \"drop * from tables\"\n",
    "\n",
    "caller(some_str, literal_str)"
   ]
  },
  {
   "cell_type": "markdown",
   "metadata": {},
   "source": [
    "### typing.NoReturn"
   ]
  },
  {
   "cell_type": "code",
   "execution_count": 23,
   "metadata": {},
   "outputs": [],
   "source": [
    "# %%micropython\n",
    "\n",
    "from typing import NoReturn\n",
    "\n",
    "\n",
    "def stop() -> NoReturn:\n",
    "    raise RuntimeError(\"no way\")"
   ]
  },
  {
   "cell_type": "code",
   "execution_count": null,
   "metadata": {},
   "outputs": [],
   "source": [
    "# %%micropython\n",
    "\n",
    "from typing import NoReturn\n",
    "\n",
    "\n",
    "def hard_stop() -> NoReturn:\n",
    "    raise RuntimeError(\"stop execution here\")\n",
    "\n",
    "\n",
    "print(\"hello\")\n",
    "hard_stop()\n",
    "\n",
    "# this line will not be executed - but this is not shown a jupyter notebook\n",
    "print(\"world\")"
   ]
  },
  {
   "cell_type": "markdown",
   "metadata": {},
   "source": [
    "### typing.Final"
   ]
  },
  {
   "cell_type": "code",
   "execution_count": 24,
   "metadata": {},
   "outputs": [
    {
     "name": "stdout",
     "output_type": "stream",
     "text": [
      "42\n"
     ]
    }
   ],
   "source": [
    "# %%micropython\n",
    "\n",
    "from typing import Final\n",
    "\n",
    "CONST: Final = 42\n",
    "\n",
    "\n",
    "print(CONST)"
   ]
  },
  {
   "cell_type": "markdown",
   "metadata": {},
   "source": [
    "### typing.final"
   ]
  },
  {
   "cell_type": "code",
   "execution_count": 25,
   "metadata": {},
   "outputs": [],
   "source": [
    "# %%micropython\n",
    "\n",
    "from typing import final\n",
    "\n",
    "\n",
    "class Base:\n",
    "    @final\n",
    "    def done(self) -> None: ...\n",
    "class Sub(Base):\n",
    "    def done(self) -> None:  # Error reported by type checker\n",
    "        ...\n",
    "\n",
    "\n",
    "@final\n",
    "class Leaf: ...\n",
    "\n",
    "\n",
    "class Other(Leaf):  # Error reported by type checker\n",
    "    ...\n",
    "\n",
    "\n",
    "other = Other()"
   ]
  },
  {
   "cell_type": "markdown",
   "metadata": {},
   "source": [
    "### typing.TypedDict - TODO"
   ]
  },
  {
   "cell_type": "markdown",
   "metadata": {},
   "source": [
    "### typing.NamedTuple  - TODO"
   ]
  },
  {
   "cell_type": "markdown",
   "metadata": {},
   "source": [
    "## typing.IO - TODO \n",
    "- ABCs for working with IO - Need tests"
   ]
  },
  {
   "cell_type": "code",
   "execution_count": null,
   "metadata": {},
   "outputs": [
    {
     "name": "stdout",
     "output_type": "stream",
     "text": [
      "TODO: Add some tests\n"
     ]
    }
   ],
   "source": [
    "# %%micropython\n",
    "\n",
    "# ABCs for working with IO\n",
    "# Generic type IO[AnyStr] and its subclasses TextIO(IO[str]) and BinaryIO(IO[bytes]) represent the types of I/O streams such as returned by open().\n",
    "\n",
    "from typing import IO\n",
    "from typing import TextIO\n",
    "from typing import BinaryIO\n",
    "\n",
    "print(\"TODO: Add some tests\")"
   ]
  },
  {
   "cell_type": "markdown",
   "metadata": {},
   "source": [
    "## Module typing_extensions\n",
    "\n",
    "This is relevant to MicroPython as it is based on 3.4 / 3.5 syntax.\n",
    "\n",
    "Enable use of new type system features on older Python versions. For example, typing.TypeGuard is new in Python 3.10, but typing_extensions allows users on previous Python versions to use it too.\n",
    "\n",
    "\n",
    "see: https://typing-extensions.readthedocs.io/"
   ]
  },
  {
   "cell_type": "markdown",
   "metadata": {},
   "source": [
    "### typing_extensions.TypeVarTuple"
   ]
  },
  {
   "cell_type": "code",
   "execution_count": 26,
   "metadata": {},
   "outputs": [],
   "source": [
    "# %%micropython\n",
    "\n",
    "# In older versions of Python, TypeVarTuple and Unpack\n",
    "# are located in the `typing_extensions` backports package.\n",
    "from typing_extensions import TypeVarTuple, Unpack\n",
    "\n",
    "Ts = TypeVarTuple(\"Ts\")\n",
    "tup: tuple[Unpack[Ts]]  # Semantically equivalent, and backwards-compatible"
   ]
  },
  {
   "cell_type": "markdown",
   "metadata": {},
   "source": [
    "### typing_extensions.TypeVar"
   ]
  },
  {
   "cell_type": "code",
   "execution_count": 27,
   "metadata": {},
   "outputs": [
    {
     "name": "stdout",
     "output_type": "stream",
     "text": [
      "Foo\n"
     ]
    }
   ],
   "source": [
    "# %%micropython\n",
    "\n",
    "from typing_extensions import TypeVar, reveal_type\n",
    "\n",
    "Self = TypeVar(\"Self\", bound=\"Foo\")\n",
    "\n",
    "\n",
    "class Foo:\n",
    "    def return_self(self: Self) -> Self:\n",
    "        ...\n",
    "        return self\n",
    "\n",
    "\n",
    "foo = Foo()\n",
    "reveal_type(foo.return_self())  # Revealed type is \"Foo\""
   ]
  },
  {
   "cell_type": "markdown",
   "metadata": {},
   "source": [
    "### typing_extensions.Generator"
   ]
  },
  {
   "cell_type": "code",
   "execution_count": null,
   "metadata": {},
   "outputs": [
    {
     "name": "stdout",
     "output_type": "stream",
     "text": [
      "0\n"
     ]
    }
   ],
   "source": [
    "# %%micropython\n",
    "\n",
    "from typing_extensions import Generator\n",
    "\n",
    "\n",
    "def echo_round() -> Generator[int, float, str]:\n",
    "    sent = yield 0\n",
    "    while sent >= 0:\n",
    "        sent = yield round(sent)\n",
    "    return \"Done\"\n",
    "\n",
    "\n",
    "e = echo_round()\n",
    "\n",
    "output = next(e)\n",
    "print(output)\n",
    "assert output == 0"
   ]
  },
  {
   "cell_type": "markdown",
   "metadata": {},
   "source": [
    "### typing_extensions.Self"
   ]
  },
  {
   "cell_type": "code",
   "execution_count": 28,
   "metadata": {},
   "outputs": [
    {
     "name": "stdout",
     "output_type": "stream",
     "text": [
      "Foo\n",
      "<Foo object at 2000e950>\n",
      "SubclassOfFoo\n",
      "<SubclassOfFoo object at 2000e960>\n"
     ]
    }
   ],
   "source": [
    "# %%micropython\n",
    "from typing_extensions import Self, reveal_type\n",
    "\n",
    "\n",
    "class Foo:\n",
    "    def return_self(self) -> Self:\n",
    "        ...\n",
    "        return self\n",
    "\n",
    "\n",
    "class SubclassOfFoo(Foo):\n",
    "    pass\n",
    "\n",
    "\n",
    "print(reveal_type(Foo().return_self()))  # Revealed type is \"Foo\"\n",
    "print(reveal_type(SubclassOfFoo().return_self()))  # Revealed type is \"SubclassOfFoo\"\n",
    "\n",
    "# Same issues as with : from typing import reveal_type\n",
    "# impact: Low "
   ]
  },
  {
   "cell_type": "markdown",
   "metadata": {},
   "source": [
    "## module: `__future__`"
   ]
  },
  {
   "cell_type": "markdown",
   "metadata": {},
   "source": [
    "### __future__.annotations"
   ]
  },
  {
   "cell_type": "code",
   "execution_count": 29,
   "metadata": {},
   "outputs": [
    {
     "name": "stdout",
     "output_type": "stream",
     "text": [
      "int\n",
      "int\n",
      "OK, Expected error: 'int' object has no attribute 'upper'\n"
     ]
    }
   ],
   "source": [
    "# %%micropython\n",
    "\n",
    "from __future__ import annotations\n",
    "\n",
    "from typing import cast\n",
    "from typing_extensions import reveal_type\n",
    "\n",
    "x = 1\n",
    "reveal_type(x)\n",
    "y = cast(str, x)\n",
    "reveal_type(y)\n",
    "\n",
    "try:\n",
    "    y.upper()\n",
    "except AttributeError as e:\n",
    "    print(\"OK, Expected error:\", e)"
   ]
  },
  {
   "cell_type": "code",
   "execution_count": 30,
   "metadata": {},
   "outputs": [
    {
     "name": "stdout",
     "output_type": "stream",
     "text": [
      "int\n",
      "int\n",
      "OK - Intentional no runtime check: 'int' object has no attribute 'upper'\n"
     ]
    }
   ],
   "source": [
    "# %%micropython\n",
    "\n",
    "from __future__ import annotations\n",
    "\n",
    "from typing import cast\n",
    "from typing_extensions import reveal_type\n",
    "\n",
    "x = 1\n",
    "reveal_type(x)\n",
    "y = cast(str, x)\n",
    "reveal_type(y)\n",
    "try:\n",
    "    y.upper()\n",
    "except AttributeError as e:\n",
    "    # https://docs.python.org/3/library/typing.html#typing.cast\n",
    "    print(f\"OK - Intentional no runtime check: {e}\")"
   ]
  },
  {
   "cell_type": "code",
   "execution_count": 31,
   "metadata": {},
   "outputs": [
    {
     "name": "stdout",
     "output_type": "stream",
     "text": [
      "int\n",
      "int\n",
      "OK - Intentional no runtime check: 'int' object has no attribute 'upper'\n"
     ]
    }
   ],
   "source": [
    "# %%micropython\n",
    "\n",
    "from __future__ import annotations\n",
    "\n",
    "from typing import cast\n",
    "from typing_extensions import reveal_type\n",
    "\n",
    "x = 1\n",
    "reveal_type(x)\n",
    "y = cast(str, x)\n",
    "reveal_type(y)\n",
    "try:\n",
    "    y.upper()\n",
    "except AttributeError as e:\n",
    "    # https://docs.python.org/3/library/typing.html#typing.cast\n",
    "    print(f\"OK - Intentional no runtime check: {e}\")"
   ]
  },
  {
   "cell_type": "markdown",
   "metadata": {},
   "source": [
    "## module: abc\n"
   ]
  },
  {
   "cell_type": "code",
   "execution_count": 32,
   "metadata": {},
   "outputs": [],
   "source": [
    "# %%micropython\n",
    "\n",
    "from abc import get_cache_token, update_abstractmethods, ABC, abstractmethod\n",
    "\n",
    "\n",
    "class C(ABC):\n",
    "    @abstractmethod\n",
    "    def my_abstract_method(self, arg1): ...\n",
    "    @classmethod\n",
    "    @abstractmethod\n",
    "    def my_abstract_classmethod(cls, arg2): ...\n",
    "    @staticmethod\n",
    "    @abstractmethod\n",
    "    def my_abstract_staticmethod(arg3): ...\n",
    "\n",
    "    @property\n",
    "    @abstractmethod\n",
    "    def my_abstract_property(self): ...\n",
    "    @my_abstract_property.setter\n",
    "    @abstractmethod\n",
    "    def my_abstract_property(self, val): ...\n",
    "\n",
    "    @abstractmethod\n",
    "    def _get_x(self): ...\n",
    "    @abstractmethod\n",
    "    def _set_x(self, val): ...\n",
    "\n",
    "    x = property(_get_x, _set_x)\n",
    "\n",
    "\n",
    "token = get_cache_token()\n",
    "\n",
    "cls = update_abstractmethods(C)"
   ]
  },
  {
   "cell_type": "markdown",
   "metadata": {},
   "source": [
    "### abc.abstractmethod"
   ]
  },
  {
   "cell_type": "code",
   "execution_count": null,
   "metadata": {},
   "outputs": [
    {
     "name": "stdout",
     "output_type": "stream",
     "text": [
      "True\n",
      "78.53982 31.41593\n",
      "type(a)=<class 'float'>\n",
      "type(p)=<class 'float'>\n",
      "25 20\n",
      "type(a)=<class 'int'>\n",
      "type(p)=<class 'int'>\n"
     ]
    }
   ],
   "source": [
    "# %%micropython --reset\n",
    "from typing import TYPE_CHECKING\n",
    "\n",
    "\n",
    "from abc import ABC, abstractmethod\n",
    "from math import pi\n",
    "\n",
    "\n",
    "class Shape(ABC):\n",
    "    @abstractmethod\n",
    "    def get_area(self) -> float:\n",
    "        pass\n",
    "\n",
    "    @abstractmethod\n",
    "    def get_perimeter(self) -> float:\n",
    "        pass\n",
    "\n",
    "\n",
    "class Circle(Shape):\n",
    "    def __init__(self, radius) -> None:\n",
    "        self.radius = radius\n",
    "\n",
    "    def get_area(self) -> float:\n",
    "        return pi * self.radius**2\n",
    "\n",
    "    def get_perimeter(self) -> float:\n",
    "        return 2 * pi * self.radius\n",
    "\n",
    "\n",
    "class Square(Shape):\n",
    "    def __init__(self, side) -> None:\n",
    "        self.side = side\n",
    "\n",
    "    def get_area(self) -> float:\n",
    "        return self.side**2\n",
    "\n",
    "    def get_perimeter(self) -> float:\n",
    "        return 4 * self.side\n",
    "\n",
    "\n",
    "c1 = Circle(5)\n",
    "s1 = Square(5)\n",
    "\n",
    "for shape in [c1, s1]:\n",
    "    a = shape.get_area()\n",
    "    p = shape.get_perimeter()\n",
    "\n",
    "    print(a, p)\n",
    "    print(f\"{type(a)=}\")\n",
    "    print(f\"{type(p)=}\")\n",
    "\n",
    "    assert isinstance(a, (float, int)), \"Area should be a float\"\n",
    "    assert isinstance(p, (float, int)), \"Perimeter should be a float\"\n",
    "\n",
    "# CPython\n",
    "# ----------------------\n",
    "# 78.53981633974483 31.41592653589793\n",
    "# type(a)=<class 'float'>\n",
    "# type(p)=<class 'float'>\n",
    "# 25 20\n",
    "# type(a)=<class 'int'>\n",
    "# type(p)=<class 'int'>\n",
    "\n",
    "# MicroPython typing.py\n",
    "# ----------------------\n",
    "# 78.53982 31.41593\n",
    "# type(a)=<class 'float'>\n",
    "# type(p)=<class 'float'>\n",
    "# 25 20\n",
    "# type(a)=<class 'int'>\n",
    "# type(p)=<class 'int'>\n",
    "\n",
    "# Micropython - modtyping.c\n",
    "# ----------------------\n",
    "# <any_call> <any_call>\n",
    "# type(a)=<class 'any_call'>\n",
    "# type(p)=<class 'any_call'>\n",
    "# WARNING |Traceback (most recent call last):\n",
    "# WARNING |  File \"<stdin>\", line 52, in <module>\n",
    "# ERROR   |AssertionError: Area should be a float\n",
    "#"
   ]
  },
  {
   "cell_type": "code",
   "execution_count": 33,
   "metadata": {},
   "outputs": [],
   "source": [
    "# %%micropython\n",
    "\n",
    "from abc import ABC, abstractmethod\n",
    "from math import pi\n",
    "\n",
    "\n",
    "class Shape(ABC):\n",
    "    @abstractmethod\n",
    "    def get_area(self) -> float:\n",
    "        pass\n",
    "\n",
    "    @abstractmethod\n",
    "    def get_perimeter(self) -> float:\n",
    "        pass\n",
    "\n",
    "\n",
    "class Circle(Shape):\n",
    "    def __init__(self, radius) -> None:\n",
    "        self.radius = radius\n",
    "\n",
    "    def get_area(self) -> float:\n",
    "        return pi * self.radius**2\n",
    "\n",
    "    def get_perimeter(self) -> float:\n",
    "        return 2 * pi * self.radius\n",
    "\n",
    "\n",
    "class Square(Shape):\n",
    "    def __init__(self, side) -> None:\n",
    "        self.side = side\n",
    "\n",
    "    def get_area(self) -> float:\n",
    "        return self.side**2\n",
    "\n",
    "    def get_perimeter(self) -> float:\n",
    "        return 4 * self.side"
   ]
  },
  {
   "cell_type": "markdown",
   "metadata": {},
   "source": [
    "## collections.abc\n"
   ]
  },
  {
   "cell_type": "markdown",
   "metadata": {},
   "source": [
    "### collections.abc.Mapping"
   ]
  },
  {
   "cell_type": "code",
   "execution_count": 34,
   "metadata": {},
   "outputs": [],
   "source": [
    "# %%micropython\n",
    "# https://docs.python.org/3/library/typing.html#generics\n",
    "\n",
    "from collections.abc import Mapping, Sequence\n",
    "\n",
    "\n",
    "class Employee: ...\n",
    "\n",
    "\n",
    "# Sequence[Employee] indicates that all elements in the sequence\n",
    "# must be instances of \"Employee\".\n",
    "# Mapping[str, str] indicates that all keys and all values in the mapping\n",
    "# must be strings.\n",
    "def notify_by_email(employees: Sequence[Employee], overrides: Mapping[str, str]) -> None: ..."
   ]
  },
  {
   "cell_type": "code",
   "execution_count": null,
   "metadata": {},
   "outputs": [
    {
     "name": "stdout",
     "output_type": "stream",
     "text": [
      "[] [1, 'foo'] {}\n"
     ]
    }
   ],
   "source": [
    "# %%micropython\n",
    "\n",
    "\n",
    "from collections.abc import Mapping\n",
    "\n",
    "# Type checker will infer that all elements in ``x`` are meant to be ints\n",
    "x: list[int] = []\n",
    "\n",
    "# Type checker error: ``list`` only accepts a single type argument:\n",
    "y: list[int, str] = [1, \"foo\"]\n",
    "\n",
    "# Type checker will infer that all keys in ``z`` are meant to be strings,\n",
    "# and that all values in ``z`` are meant to be either strings or ints\n",
    "z: Mapping[str, str | int] = {}\n",
    "\n",
    "print(x, y, z)"
   ]
  },
  {
   "cell_type": "markdown",
   "metadata": {},
   "source": [
    "### collections.abc.Sequence"
   ]
  },
  {
   "cell_type": "code",
   "execution_count": null,
   "metadata": {},
   "outputs": [],
   "source": [
    "# %%micropython\n",
    "\n",
    "\n",
    "from collections.abc import Mapping\n",
    "\n",
    "# Type checker will infer that all elements in ``x`` are meant to be ints\n",
    "x: list[int] = []\n",
    "\n",
    "# Type checker error: ``list`` only accepts a single type argument:\n",
    "y: list[int, str] = [1, \"foo\"] \n",
    "\n",
    "# Type checker will infer that all keys in ``z`` are meant to be strings,\n",
    "# and that all values in ``z`` are meant to be either strings or ints\n",
    "z: Mapping[str, str | int] = {}"
   ]
  },
  {
   "cell_type": "code",
   "execution_count": null,
   "metadata": {},
   "outputs": [],
   "source": [
    "# %%micropython\n",
    "\n",
    "from collections.abc import Mapping, Sequence\n",
    "\n",
    "\n",
    "class Employee: ...\n",
    "\n",
    "\n",
    "# Sequence[Employee] indicates that all elements in the sequence\n",
    "# must be instances of \"Employee\".\n",
    "# Mapping[str, str] indicates that all keys and all values in the mapping\n",
    "# must be strings.\n",
    "def notify_by_email(employees: Sequence[Employee], overrides: Mapping[str, str]) -> None: ..."
   ]
  },
  {
   "cell_type": "markdown",
   "metadata": {},
   "source": [
    "### collections.abc.Callable"
   ]
  },
  {
   "cell_type": "code",
   "execution_count": 35,
   "metadata": {},
   "outputs": [
    {
     "name": "stdout",
     "output_type": "stream",
     "text": [
      "add_two was called\n",
      "3\n"
     ]
    }
   ],
   "source": [
    "# %%micropython\n",
    "\n",
    "# ParamSpec, 3.11 notation\n",
    "# https://docs.python.org/3/library/typing.html#typing.ParamSpec\n",
    "\n",
    "from collections.abc import Callable\n",
    "from typing import TypeVar, ParamSpec\n",
    "\n",
    "T = TypeVar(\"T\")\n",
    "P = ParamSpec(\"P\")\n",
    "\n",
    "\n",
    "def add_logging(f: Callable[P, T]) -> Callable[P, T]:\n",
    "    \"\"\"A type-safe decorator to add logging to a function.\"\"\"\n",
    "\n",
    "    def inner(*args: P.args, **kwargs: P.kwargs) -> T:\n",
    "        print(f\"{f.__name__} was called\")\n",
    "        return f(*args, **kwargs)\n",
    "\n",
    "    return inner\n",
    "\n",
    "\n",
    "@add_logging\n",
    "def add_two(x: float, y: float) -> float:\n",
    "    \"\"\"Add two numbers together.\"\"\"\n",
    "    return x + y\n",
    "\n",
    "\n",
    "x = add_two(1, 2)\n",
    "print(x)\n",
    "assert x == 3, \"add_two(1, 2) == 3\""
   ]
  },
  {
   "cell_type": "code",
   "execution_count": null,
   "metadata": {},
   "outputs": [
    {
     "name": "stdout",
     "output_type": "stream",
     "text": [
      "\u001b[33m\u001b[1mWARNING \u001b[0m | \u001b[33m\u001b[1mTraceback (most recent call last):\u001b[0m\n",
      "\u001b[33m\u001b[1mWARNING \u001b[0m | \u001b[33m\u001b[1m  File \"<stdin>\", line 6, in <module>\u001b[0m\n",
      "\u001b[31m\u001b[1mERROR   \u001b[0m | \u001b[31m\u001b[1mImportError: no module named 'collections.abc'\n",
      "\u001b[0m\n"
     ]
    },
    {
     "ename": "MCUException",
     "evalue": "ImportError: no module named 'collections.abc'\r\n",
     "output_type": "error",
     "traceback": [
      "\u001b[1;31mMCUException\u001b[0m\u001b[1;31m:\u001b[0m ImportError: no module named 'collections.abc'\r\n",
      "\n"
     ]
    }
   ],
   "source": [
    "# %%micropython\n",
    "\n",
    "# ParamSpec, 3.11 notation\n",
    "# https://docs.python.org/3/library/typing.html#typing.ParamSpec\n",
    "\n",
    "from collections.abc import Callable\n",
    "from typing import TypeVar, ParamSpec\n",
    "\n",
    "T = TypeVar(\"T\")\n",
    "P = ParamSpec(\"P\")\n",
    "\n",
    "\n",
    "def add_logging(f: Callable[P, T]) -> Callable[P, T]:\n",
    "    \"\"\"A type-safe decorator to add logging to a function.\"\"\"\n",
    "\n",
    "    def inner(*args: P.args, **kwargs: P.kwargs) -> T:\n",
    "        print(f\"{f.__name__} was called\")\n",
    "        return f(*args, **kwargs)\n",
    "\n",
    "    return inner\n",
    "\n",
    "\n",
    "@add_logging\n",
    "def add_two(x: float, y: float) -> float:\n",
    "    \"\"\"Add two numbers together.\"\"\"\n",
    "    return x + y\n",
    "\n",
    "\n",
    "x = add_two(1, 2)\n",
    "print(x)"
   ]
  },
  {
   "cell_type": "markdown",
   "metadata": {},
   "source": [
    "### collections.abc.Awaitable"
   ]
  },
  {
   "cell_type": "code",
   "execution_count": 62,
   "metadata": {},
   "outputs": [],
   "source": [
    "# %%micropython\n",
    "from collections.abc import Callable, Awaitable\n",
    "\n",
    "\n",
    "def feeder(get_next_item: Callable[[], str]) -> None: ...  # Body\n",
    "\n",
    "\n",
    "def async_query(\n",
    "    on_success: Callable[[int], None], on_error: Callable[[int, Exception], None]\n",
    ") -> None: ...  # Body\n",
    "\n",
    "\n",
    "async def on_update(value: str) -> None: ...  # Body\n",
    "\n",
    "\n",
    "callback: Callable[[str], Awaitable[None]] = on_update\n",
    "\n",
    "# ...\n",
    "\n",
    "\n",
    "def concat(x: str, y: str) -> str:\n",
    "    return x + y\n",
    "\n",
    "\n",
    "x: Callable[..., str]\n",
    "x = str  # OK\n",
    "x = concat  # Also OK\n",
    "\n"
   ]
  },
  {
   "cell_type": "code",
   "execution_count": null,
   "metadata": {},
   "outputs": [
    {
     "name": "stdout",
     "output_type": "stream",
     "text": [
      "fake LED1 ON\n",
      "fake led2 ON\n",
      "fake led2 OFF\n",
      "fake led2 ON\n",
      "fake led2 OFF\n",
      "fake led2 ON\n",
      "fake LED1 OFF\n",
      "fake led2 OFF\n",
      "fake LED1 ON\n",
      "fake led2 ON\n"
     ]
    }
   ],
   "source": [
    "# %%micropython\n",
    "from collections.abc import Callable, Awaitable\n",
    "\n",
    "import asyncio\n",
    "\n",
    "\n",
    "async def blink(led, period_ms):\n",
    "    while True:\n",
    "        await asyncio.sleep_ms(5)\n",
    "        print(f\"fake {led} ON\")\n",
    "        await asyncio.sleep_ms(period_ms)\n",
    "        print(f\"fake {led} OFF\")\n",
    "\n",
    "\n",
    "async def work(todo: List[Callable[[], Awaitable[None]]], timeout_ms: int) -> None:\n",
    "    for task in todo:\n",
    "        asyncio.create_task(task())\n",
    "    await asyncio.sleep_ms(timeout_ms)\n",
    "\n",
    "\n",
    "async def main():\n",
    "    await work(\n",
    "        [\n",
    "            lambda: blink(\"LED1\", 70),\n",
    "            lambda: blink(\"led2\", 20),\n",
    "        ],\n",
    "        90,\n",
    "    )\n",
    "\n",
    "\n",
    "try:\n",
    "    asyncio.run(main())\n",
    "finally:\n",
    "    asyncio.new_event_loop()  # Clear retained stat"
   ]
  },
  {
   "cell_type": "markdown",
   "metadata": {},
   "source": [
    "### collections.abc.Iterable"
   ]
  },
  {
   "cell_type": "code",
   "execution_count": null,
   "metadata": {},
   "outputs": [],
   "source": [
    "\n",
    "# ####\n",
    "\n",
    "from collections.abc import Iterable\n",
    "from typing import Protocol\n",
    "\n",
    "\n",
    "class Combiner(Protocol):\n",
    "    def __call__(self, *vals: bytes, maxlen: int | None = None) -> list[bytes]: ...\n",
    "\n",
    "\n",
    "def batch_proc(data: Iterable[bytes], cb_results: Combiner) -> bytes:\n",
    "    for item in data:\n",
    "        ...\n",
    "\n",
    "\n",
    "def good_cb(*vals: bytes, maxlen: int | None = None) -> list[bytes]: ...\n",
    "\n",
    "\n",
    "batch_proc([], good_cb)  # OK"
   ]
  },
  {
   "cell_type": "markdown",
   "metadata": {},
   "source": [
    "## asyncio"
   ]
  },
  {
   "cell_type": "code",
   "execution_count": null,
   "metadata": {},
   "outputs": [
    {
     "name": "stdout",
     "output_type": "stream",
     "text": [
      "fake LED1 ON\n",
      "fake led2 ON\n",
      "fake led2 OFF\n",
      "fake led2 ON\n",
      "fake led2 OFF\n",
      "fake led2 ON\n",
      "fake LED1 OFF\n",
      "fake led2 OFF\n",
      "fake LED1 ON\n",
      "fake led2 ON\n"
     ]
    }
   ],
   "source": [
    "# %%micropython\n",
    "from collections.abc import Callable, Awaitable\n",
    "\n",
    "import asyncio\n",
    "\n",
    "\n",
    "async def blink(led, period_ms):\n",
    "    while True:\n",
    "        await asyncio.sleep_ms(5)\n",
    "        print(f\"fake {led} ON\")\n",
    "        await asyncio.sleep_ms(period_ms)\n",
    "        print(f\"fake {led} OFF\")\n",
    "\n",
    "\n",
    "async def work(todo: List[Callable[[], Awaitable[None]]], timeout_ms: int) -> None:\n",
    "    for task in todo:\n",
    "        asyncio.create_task(task())\n",
    "    await asyncio.sleep_ms(timeout_ms)\n",
    "\n",
    "\n",
    "async def main():\n",
    "    await work(\n",
    "        [\n",
    "            lambda: blink(\"LED1\", 70),\n",
    "            lambda: blink(\"led2\", 20),\n",
    "        ],\n",
    "        90,\n",
    "    )\n",
    "\n",
    "\n",
    "try:\n",
    "    asyncio.run(main())\n",
    "finally:\n",
    "    asyncio.new_event_loop()  # Clear retained stat"
   ]
  },
  {
   "cell_type": "markdown",
   "metadata": {},
   "source": [
    "# Unsupported constructs"
   ]
  },
  {
   "cell_type": "markdown",
   "metadata": {},
   "source": [
    "### typing.get_args - Not Implemented"
   ]
  },
  {
   "cell_type": "code",
   "execution_count": 47,
   "metadata": {},
   "outputs": [],
   "source": [
    "# %%micropython\n",
    "from typing import get_args\n",
    "\n",
    "# partial implementation of get_args\n",
    "x = get_args(int)\n",
    "assert x == (), f\"expected () but got {x}\"\n",
    "# assert get_args(Dict[int, str]) == (int, str)\n",
    "# assert get_args(Union[int, str]) == (int, str)"
   ]
  },
  {
   "cell_type": "markdown",
   "metadata": {},
   "source": [
    "### typing.get_origin - Not Implemented"
   ]
  },
  {
   "cell_type": "code",
   "execution_count": null,
   "metadata": {},
   "outputs": [
    {
     "name": "stdout",
     "output_type": "stream",
     "text": [
      "\u001b[33m\u001b[1mWARNING \u001b[0m | \u001b[33m\u001b[1mTraceback (most recent call last):\u001b[0m\n",
      "\u001b[33m\u001b[1mWARNING \u001b[0m | \u001b[33m\u001b[1m  File \"<stdin>\", line 12, in <module>\u001b[0m\n",
      "\u001b[31m\u001b[1mERROR   \u001b[0m | \u001b[31m\u001b[1mAssertionError: origin Dict cannot be detected\n",
      "\u001b[0m\n"
     ]
    },
    {
     "ename": "MCUException",
     "evalue": "AssertionError: origin Dict cannot be detected\r\n",
     "output_type": "error",
     "traceback": [
      "\u001b[1;31mMCUException\u001b[0m\u001b[1;31m:\u001b[0m AssertionError: origin Dict cannot be detected\r\n",
      "\n"
     ]
    }
   ],
   "source": [
    "# %%micropython\n",
    "\n",
    "from typing import Dict,get_origin\n",
    "\n",
    "\n",
    "# https://docs.python.org/3/library/typing.html#typing.get_origin\n",
    "\n",
    "assert get_origin(str) is None, \"str\"\n",
    "\n",
    "# Partial implementation of get_origin\n",
    "\n",
    "assert get_origin(Dict[str, int]) is dict, \"origin Dict cannot be detected\"\n",
    "# assert get_origin(Union[int, str]) is Union, \"Union\"\n",
    "# P = ParamSpec(\"P\")\n",
    "# assert get_origin(P.args) is P, \"ParamSpec args\"\n",
    "# assert get_origin(P.kwargs) is P, \"ParamSpec kwargs\""
   ]
  },
  {
   "cell_type": "markdown",
   "metadata": {},
   "source": [
    "### typing.@runtime_checkable - Not Implemented"
   ]
  },
  {
   "cell_type": "code",
   "execution_count": 48,
   "metadata": {},
   "outputs": [
    {
     "name": "stdout",
     "output_type": "stream",
     "text": [
      "@runtime_checkable, not supported: issubclass() arg 2 must be a class or a tuple of classes\n"
     ]
    }
   ],
   "source": [
    "# %%micropython\n",
    "\n",
    "from typing import runtime_checkable, Protocol\n",
    "\n",
    "\n",
    "@runtime_checkable\n",
    "class Closable(Protocol):\n",
    "    def close(self): ...\n",
    "\n",
    "\n",
    "try:\n",
    "    assert isinstance(open(\"lib/typing.mpy\"), Closable)\n",
    "except TypeError as e:\n",
    "    print(f\"@runtime_checkable, not supported: {e}\")"
   ]
  },
  {
   "cell_type": "markdown",
   "metadata": {},
   "source": [
    "### abc.ABCMeta - `metaclass` Not Implemented"
   ]
  },
  {
   "cell_type": "code",
   "execution_count": 49,
   "metadata": {
    "tags": [
     "raises-exception"
    ]
   },
   "outputs": [
    {
     "name": "stdout",
     "output_type": "stream",
     "text": [
      "\u001b[33m\u001b[1mWARNING \u001b[0m | \u001b[33m\u001b[1mTraceback (most recent call last):\u001b[0m\n",
      "\u001b[33m\u001b[1mWARNING \u001b[0m | \u001b[33m\u001b[1m  File \"<stdin>\", line 6, in <module>\u001b[0m\n",
      "\u001b[31m\u001b[1mERROR   \u001b[0m | \u001b[31m\u001b[1mTypeError: function doesn't take keyword arguments\n",
      "\u001b[0m\n"
     ]
    },
    {
     "ename": "MCUException",
     "evalue": "TypeError: function doesn't take keyword arguments\r\n",
     "output_type": "error",
     "traceback": [
      "\u001b[1;31mMCUException\u001b[0m\u001b[1;31m:\u001b[0m TypeError: function doesn't take keyword arguments\r\n\n"
     ]
    }
   ],
   "source": [
    "# %%micropython\n",
    "\n",
    "from abc import ABCMeta\n",
    "\n",
    "\n",
    "class MyABC(metaclass=ABCMeta):\n",
    "    pass"
   ]
  },
  {
   "cell_type": "markdown",
   "metadata": {},
   "source": [
    "## python 3.12 syntax - not supported\n"
   ]
  },
  {
   "cell_type": "markdown",
   "metadata": {},
   "source": [
    "### python_3.12 type"
   ]
  },
  {
   "cell_type": "code",
   "execution_count": 51,
   "metadata": {
    "tags": [
     "raises-exception"
    ]
   },
   "outputs": [
    {
     "name": "stdout",
     "output_type": "stream",
     "text": [
      "\u001b[33m\u001b[1mWARNING \u001b[0m | \u001b[33m\u001b[1mTraceback (most recent call last):\u001b[0m\n",
      "  File \"<stdin>\", line 8\n",
      "\u001b[31m\u001b[1mERROR   \u001b[0m | \u001b[31m\u001b[1mSyntaxError: invalid syntax\n",
      "\u001b[0m\n"
     ]
    },
    {
     "ename": "MCUException",
     "evalue": "SyntaxError: invalid syntax\r\n",
     "output_type": "error",
     "traceback": [
      "\u001b[1;31mMCUException\u001b[0m\u001b[1;31m:\u001b[0m SyntaxError: invalid syntax\r\n\n"
     ]
    }
   ],
   "source": [
    "# %%micropython\n",
    "\n",
    "# 3.12 type parameter syntax\n",
    "# https://docs.python.org/3/reference/simple_stmts.html#the-type-statement\n",
    "\n",
    "\n",
    "print(\"OK, 3.12 syntax not supported\")\n",
    "type Point = tuple[float, float]\n"
   ]
  },
  {
   "cell_type": "markdown",
   "metadata": {},
   "source": [
    "### python_3.12 type parameter sytax"
   ]
  },
  {
   "cell_type": "code",
   "execution_count": 52,
   "metadata": {
    "tags": [
     "raises-exception"
    ]
   },
   "outputs": [
    {
     "name": "stdout",
     "output_type": "stream",
     "text": [
      "\u001b[33m\u001b[1mWARNING \u001b[0m | \u001b[33m\u001b[1mTraceback (most recent call last):\u001b[0m\n",
      "  File \"<stdin>\", line 7\n",
      "\u001b[31m\u001b[1mERROR   \u001b[0m | \u001b[31m\u001b[1mSyntaxError: invalid syntax\n",
      "\u001b[0m\n"
     ]
    },
    {
     "ename": "MCUException",
     "evalue": "SyntaxError: invalid syntax\r\n",
     "output_type": "error",
     "traceback": [
      "\u001b[1;31mMCUException\u001b[0m\u001b[1;31m:\u001b[0m SyntaxError: invalid syntax\r\n\n"
     ]
    }
   ],
   "source": [
    "# %%micropython\n",
    "\n",
    "# 3.12 type parameter syntax not supported\n",
    "\n",
    "from collections.abc import Sequence\n",
    "\n",
    "def first[T](l: Sequence[T]) -> T:  # Function is generic over the TypeVar \"T\"\n",
    "    return l[0]\n",
    "\n",
    "# from collections.abc import Sequence\n",
    "# from typing import TypeVar\n",
    "\n",
    "# U = TypeVar('U')                  # Declare type variable \"U\"\n",
    "\n",
    "# def second(l: Sequence[U]) -> U:  # Function is generic over the TypeVar \"U\"\n",
    "\n",
    "print(\"OK, 3.12 syntax not supported\")"
   ]
  },
  {
   "cell_type": "code",
   "execution_count": 53,
   "metadata": {},
   "outputs": [
    {
     "name": "stdout",
     "output_type": "stream",
     "text": [
      "Completed successfully\n"
     ]
    }
   ],
   "source": [
    "print(\"Completed successfully\")"
   ]
  },
  {
   "cell_type": "code",
   "execution_count": null,
   "metadata": {},
   "outputs": [],
   "source": []
  }
 ],
 "metadata": {
  "kernelspec": {
   "display_name": "Python 3",
   "language": "python",
   "name": "python3"
  },
  "language_info": {
   "codemirror_mode": {
    "name": "ipython",
    "version": 3
   },
   "file_extension": ".py",
   "mimetype": "text/x-python",
   "name": "python",
   "nbconvert_exporter": "python",
   "pygments_lexer": "ipython3",
   "version": "3.10.12"
  }
 },
 "nbformat": 4,
 "nbformat_minor": 2
}

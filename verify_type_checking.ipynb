{
 "cells": [
  {
   "cell_type": "markdown",
   "metadata": {},
   "source": [
    "Notebook to perform tests of runtime type checking in MicroPython.\n"
   ]
  },
  {
   "cell_type": "code",
   "execution_count": 37,
   "metadata": {},
   "outputs": [],
   "source": [
    "# %load_ext micropython_magic"
   ]
  },
  {
   "cell_type": "code",
   "execution_count": 70,
   "metadata": {},
   "outputs": [
    {
     "name": "stdout",
     "output_type": "stream",
     "text": [
      "Install __future__\n",
      "Installing __future__ (latest) from https://micropython.org/pi/v2 to /lib\n",
      "Installing: /lib/__future__.mpy\n",
      "Done\n",
      "d:\\mypython\\!-stubtestprojects\\rt_typing\\mp\n",
      "d:\\mypython\\!-stubtestprojects\\rt_typing\n",
      "cp mp/typing.mpy :/lib/typing.mpy\n",
      "cp mp/typing_extensions.mpy :/lib/typing_extensions.mpy\n",
      "cp mp/abc.mpy :/lib/abc.mpy\n",
      "mkdir :/lib/collections\n",
      "Traceback (most recent call last):\n",
      "\n",
      "  File \"<stdin>\", line 2, in <module>\n",
      "\n",
      "OSError: [Errno 17] EEXIST\n",
      "\n",
      "\n",
      "cp mp/collections/abc.mpy :/lib/collections/abc.mpy\n",
      "rm :/collections\n",
      "ls :\n",
      "           0 lib/\n",
      "ls :/lib\n",
      "         202 __future__.mpy\n",
      "          43 abc.mpy\n",
      "           0 collections/\n",
      "         321 typing.mpy\n",
      "          66 typing_extensions.mpy\n",
      "ls :/lib/collections\n",
      "          55 abc.mpy\n",
      "True\n"
     ]
    }
   ],
   "source": [
    "%run ./deploy.ipynb"
   ]
  },
  {
   "cell_type": "code",
   "execution_count": 71,
   "metadata": {},
   "outputs": [
    {
     "data": {
      "text/plain": [
       "['Testing on micropython rp2']"
      ]
     },
     "execution_count": 71,
     "metadata": {},
     "output_type": "execute_result"
    }
   ],
   "source": [
    "%mpy import sys;print(f\"Testing on {sys.implementation.name} {sys.platform}\")"
   ]
  },
  {
   "cell_type": "code",
   "execution_count": 40,
   "metadata": {},
   "outputs": [
    {
     "name": "stdout",
     "output_type": "stream",
     "text": [
      "True\n"
     ]
    }
   ],
   "source": [
    "# %%micropython --reset\n",
    "import __future__\n",
    "import typing\n",
    "import typing_extensions\n",
    "import abc\n",
    "from collections import abc"
   ]
  },
  {
   "cell_type": "code",
   "execution_count": 41,
   "metadata": {},
   "outputs": [
    {
     "name": "stdout",
     "output_type": "stream",
     "text": [
      "True\n",
      "5\n",
      "5\n"
     ]
    }
   ],
   "source": [
    "# %%micropython --reset\n",
    "\n",
    "from typing import Protocol\n",
    "\n",
    "\n",
    "class Adder(Protocol):\n",
    "    def add(self, x, y): ...\n",
    "\n",
    "\n",
    "class IntAdder:\n",
    "    def add(self, x, y):\n",
    "        return x + y\n",
    "\n",
    "\n",
    "class FloatAdder:\n",
    "    def add(self, x, y):\n",
    "        return x + y\n",
    "\n",
    "\n",
    "def add(adder: Adder) -> None:\n",
    "    print(adder.add(2, 3))\n",
    "\n",
    "\n",
    "add(IntAdder())\n",
    "add(FloatAdder())"
   ]
  },
  {
   "cell_type": "code",
   "execution_count": 42,
   "metadata": {},
   "outputs": [
    {
     "name": "stdout",
     "output_type": "stream",
     "text": [
      "Polly wants a cracker\n",
      "None\n"
     ]
    }
   ],
   "source": [
    "# %%micropython\n",
    "\n",
    "from typing import List, Protocol\n",
    "\n",
    "l: List[int] = [1, 2, 3]\n",
    "\n",
    "\n",
    "class Speak(Protocol):\n",
    "    def speak(self): ...\n",
    "\n",
    "\n",
    "class Parrot:\n",
    "    def speak(self) -> None:\n",
    "        print(\"Polly wants a cracker\")\n",
    "\n",
    "\n",
    "def say_something(speaker: Speak) -> None:\n",
    "    speaker.speak()\n",
    "\n",
    "\n",
    "polly = Parrot()\n",
    "\n",
    "print(say_something(polly))"
   ]
  },
  {
   "cell_type": "code",
   "execution_count": 43,
   "metadata": {},
   "outputs": [
    {
     "name": "stdout",
     "output_type": "stream",
     "text": [
      "True\n",
      "78.53982 31.41593\n",
      "25 20\n"
     ]
    }
   ],
   "source": [
    "# %%micropython --reset\n",
    "from typing import TYPE_CHECKING, __ignore, trace\n",
    "\n",
    "if TYPE_CHECKING:\n",
    "    from abc import ABC, abstractmethod\n",
    "    from math import pi\n",
    "\n",
    "\n",
    "class ABC:\n",
    "    \"\"\"A class to ignore type hints in code.\"\"\"\n",
    "\n",
    "    @trace\n",
    "    def __init__(*args, **kwargs):\n",
    "        pass\n",
    "\n",
    "    @trace\n",
    "    def __call__(*args, **kwargs):\n",
    "        # print(f\"Trace from ABC__IgnoreTyping.call({args}, {kwargs})\")\n",
    "        return __ignore\n",
    "\n",
    "    @trace\n",
    "    def __getitem__(self, arg):\n",
    "        return __ignore\n",
    "\n",
    "    @trace\n",
    "    def __getattr__(self, name):\n",
    "        # print(f\"Trace from ABC__IgnoreTyping.__getattr__({name}\")\n",
    "        if name in self.__dict__:\n",
    "            return self.__dict__[name]\n",
    "        return __ignore\n",
    "\n",
    "\n",
    "class Shape(ABC):\n",
    "    @abstractmethod\n",
    "    def get_area(self) -> float:\n",
    "        pass\n",
    "\n",
    "    @abstractmethod\n",
    "    def get_perimeter(self) -> float:\n",
    "        pass\n",
    "\n",
    "\n",
    "class Circle(Shape):\n",
    "    def __init__(self, radius) -> None:\n",
    "        self.radius = radius\n",
    "\n",
    "    def get_area(self) -> float:\n",
    "        return pi * self.radius**2\n",
    "\n",
    "    def get_perimeter(self) -> float:\n",
    "        return 2 * pi * self.radius\n",
    "\n",
    "\n",
    "class Square(Shape):\n",
    "    def __init__(self, side) -> None:\n",
    "        self.side = side\n",
    "\n",
    "    def get_area(self) -> float:\n",
    "        return self.side**2\n",
    "\n",
    "    def get_perimeter(self) -> float:\n",
    "        return 4 * self.side\n",
    "\n",
    "\n",
    "c1 = Circle(5)\n",
    "s1 = Square(5)\n",
    "\n",
    "for shape in [c1, s1]:\n",
    "    a = shape.get_area()\n",
    "    p = shape.get_perimeter()\n",
    "\n",
    "    print(a, p)\n",
    "    assert isinstance(a, (float, int)), \"Area should be a float\"\n",
    "    assert isinstance(p, (float, int)), \"Perimeter should be a float\""
   ]
  },
  {
   "cell_type": "code",
   "execution_count": 44,
   "metadata": {
    "tags": [
     "raises-exception"
    ]
   },
   "outputs": [
    {
     "ename": "MCUException",
     "evalue": "TypeError: function doesn't take keyword arguments\r\n",
     "output_type": "error",
     "traceback": [
      "\u001b[1;31mMCUException\u001b[0m\u001b[1;31m:\u001b[0m TypeError: function doesn't take keyword arguments\r\n\n"
     ]
    }
   ],
   "source": [
    "# %%micropython\n",
    "\n",
    "from abc import ABCMeta\n",
    "\n",
    "\n",
    "class MyABC(metaclass=ABCMeta):\n",
    "    pass"
   ]
  },
  {
   "cell_type": "code",
   "execution_count": 45,
   "metadata": {},
   "outputs": [],
   "source": [
    "# %%micropython\n",
    "\n",
    "from abc import get_cache_token, update_abstractmethods\n",
    "\n",
    "\n",
    "class C(ABC):\n",
    "    @abstractmethod\n",
    "    def my_abstract_method(self, arg1): ...\n",
    "    @classmethod\n",
    "    @abstractmethod\n",
    "    def my_abstract_classmethod(cls, arg2): ...\n",
    "    @staticmethod\n",
    "    @abstractmethod\n",
    "    def my_abstract_staticmethod(arg3): ...\n",
    "\n",
    "    @property\n",
    "    @abstractmethod\n",
    "    def my_abstract_property(self): ...\n",
    "    @my_abstract_property.setter\n",
    "    @abstractmethod\n",
    "    def my_abstract_property(self, val): ...\n",
    "\n",
    "    @abstractmethod\n",
    "    def _get_x(self): ...\n",
    "    @abstractmethod\n",
    "    def _set_x(self, val): ...\n",
    "\n",
    "    x = property(_get_x, _set_x)\n",
    "\n",
    "\n",
    "token = get_cache_token()\n",
    "\n",
    "cls = update_abstractmethods(C)"
   ]
  },
  {
   "cell_type": "code",
   "execution_count": 46,
   "metadata": {},
   "outputs": [
    {
     "name": "stdout",
     "output_type": "stream",
     "text": [
      "OK, Expected error: 'int' object has no attribute 'upper'\n"
     ]
    }
   ],
   "source": [
    "# %%micropython\n",
    "\n",
    "from __future__ import annotations\n",
    "\n",
    "from typing import cast\n",
    "from typing_extensions import reveal_type\n",
    "\n",
    "x = 1\n",
    "reveal_type(x)\n",
    "y = cast(str, x)\n",
    "reveal_type(y)\n",
    "\n",
    "try:\n",
    "    y.upper()\n",
    "except AttributeError as e:\n",
    "    print(\"OK, Expected error:\", e)"
   ]
  },
  {
   "cell_type": "markdown",
   "metadata": {},
   "source": [
    "test that to validate the other typing related modules for runtime type checking in MicroPython."
   ]
  },
  {
   "cell_type": "code",
   "execution_count": 47,
   "metadata": {},
   "outputs": [
    {
     "name": "stdout",
     "output_type": "stream",
     "text": [
      "OK - Intentional no runtime check: 'int' object has no attribute 'upper'\n"
     ]
    }
   ],
   "source": [
    "# %%micropython\n",
    "\n",
    "from __future__ import annotations\n",
    "\n",
    "from typing import cast\n",
    "from typing_extensions import reveal_type\n",
    "\n",
    "x = 1\n",
    "reveal_type(x)\n",
    "y = cast(str, x)\n",
    "reveal_type(y)\n",
    "try:\n",
    "    y.upper()\n",
    "except AttributeError as e:\n",
    "    # https://docs.python.org/3/library/typing.html#typing.cast\n",
    "    print(f\"OK - Intentional no runtime check: {e}\")"
   ]
  },
  {
   "cell_type": "code",
   "execution_count": 48,
   "metadata": {
    "tags": [
     "raises-exception"
    ]
   },
   "outputs": [
    {
     "ename": "MCUException",
     "evalue": "AssertionError: origin Dict cannot be detected\r\n",
     "output_type": "error",
     "traceback": [
      "\u001b[1;31mMCUException\u001b[0m\u001b[1;31m:\u001b[0m AssertionError: origin Dict cannot be detected\r\n\n"
     ]
    }
   ],
   "source": [
    "# %%micropython\n",
    "\n",
    "from typing import Dict, ParamSpec, Union, get_origin\n",
    "\n",
    "\n",
    "# https://docs.python.org/3/library/typing.html#typing.get_origin\n",
    "\n",
    "assert get_origin(str) is None, \"str\"\n",
    "\n",
    "# Partial implementation of get_origin\n",
    "\n",
    "assert get_origin(Dict[str, int]) is dict, \"origin Dict cannot be detected\"\n",
    "# assert get_origin(Union[int, str]) is Union, \"Union\"\n",
    "# P = ParamSpec(\"P\")\n",
    "# assert get_origin(P.args) is P, \"ParamSpec args\"\n",
    "# assert get_origin(P.kwargs) is P, \"ParamSpec kwargs\""
   ]
  },
  {
   "cell_type": "code",
   "execution_count": 49,
   "metadata": {},
   "outputs": [
    {
     "name": "stdout",
     "output_type": "stream",
     "text": [
      "add_two was called\n",
      "3\n"
     ]
    }
   ],
   "source": [
    "# %%micropython\n",
    "\n",
    "# ParamSpec, 3.11 notation\n",
    "# https://docs.python.org/3/library/typing.html#typing.ParamSpec\n",
    "\n",
    "from collections.abc import Callable\n",
    "from typing import TypeVar, ParamSpec\n",
    "\n",
    "T = TypeVar(\"T\")\n",
    "P = ParamSpec(\"P\")\n",
    "\n",
    "\n",
    "def add_logging(f: Callable[P, T]) -> Callable[P, T]:\n",
    "    \"\"\"A type-safe decorator to add logging to a function.\"\"\"\n",
    "\n",
    "    def inner(*args: P.args, **kwargs: P.kwargs) -> T:\n",
    "        print(f\"{f.__name__} was called\")\n",
    "        return f(*args, **kwargs)\n",
    "\n",
    "    return inner\n",
    "\n",
    "\n",
    "@add_logging\n",
    "def add_two(x: float, y: float) -> float:\n",
    "    \"\"\"Add two numbers together.\"\"\"\n",
    "    return x + y\n",
    "\n",
    "\n",
    "x = add_two(1, 2)\n",
    "print(x)\n",
    "assert x == 3, \"add_two(1, 2) == 3\""
   ]
  },
  {
   "cell_type": "code",
   "execution_count": 50,
   "metadata": {},
   "outputs": [
    {
     "name": "stdout",
     "output_type": "stream",
     "text": [
      "42\n"
     ]
    }
   ],
   "source": [
    "# %%micropython\n",
    "\n",
    "from typing import no_type_check\n",
    "\n",
    "\n",
    "@no_type_check\n",
    "def foo(x: int) -> str:\n",
    "    return x\n",
    "\n",
    "\n",
    "print(foo(\"42\"))\n",
    "assert foo(42) == 42"
   ]
  },
  {
   "cell_type": "code",
   "execution_count": 51,
   "metadata": {},
   "outputs": [
    {
     "name": "stdout",
     "output_type": "stream",
     "text": [
      "42\n"
     ]
    }
   ],
   "source": [
    "# %%micropython\n",
    "\n",
    "from typing import overload\n",
    "\n",
    "\n",
    "@overload\n",
    "def bar(x: int) -> str: ...\n",
    "\n",
    "\n",
    "@overload\n",
    "def bar(x: str) -> int: ...\n",
    "\n",
    "\n",
    "def bar(x):\n",
    "    return x\n",
    "\n",
    "\n",
    "print(bar(42))\n",
    "assert bar(42) == 42"
   ]
  },
  {
   "cell_type": "code",
   "execution_count": 52,
   "metadata": {},
   "outputs": [
    {
     "name": "stdout",
     "output_type": "stream",
     "text": [
      "524313\n"
     ]
    }
   ],
   "source": [
    "# %%micropython\n",
    "\n",
    "from typing import NewType\n",
    "\n",
    "UserId = NewType(\"UserId\", int)\n",
    "some_id = UserId(524313)\n",
    "\n",
    "print(some_id)\n",
    "\n",
    "assert isinstance(some_id, int)"
   ]
  },
  {
   "cell_type": "code",
   "execution_count": 53,
   "metadata": {},
   "outputs": [],
   "source": [
    "# %%micropython\n",
    "\n",
    "import os\n",
    "\n",
    "try:\n",
    "    os.mkdir(\"collections\")\n",
    "except OSError as e:\n",
    "    pass"
   ]
  },
  {
   "cell_type": "markdown",
   "metadata": {},
   "source": [
    "validate typing of async typing in MicroPython."
   ]
  },
  {
   "cell_type": "code",
   "execution_count": 54,
   "metadata": {},
   "outputs": [],
   "source": [
    "# %%micropython\n",
    "from collections.abc import Callable, Awaitable\n",
    "\n",
    "\n",
    "def feeder(get_next_item: Callable[[], str]) -> None: ...  # Body\n",
    "\n",
    "\n",
    "def async_query(\n",
    "    on_success: Callable[[int], None], on_error: Callable[[int, Exception], None]\n",
    ") -> None: ...  # Body\n",
    "\n",
    "\n",
    "async def on_update(value: str) -> None: ...  # Body\n",
    "\n",
    "\n",
    "callback: Callable[[str], Awaitable[None]] = on_update\n",
    "\n",
    "# ...\n",
    "\n",
    "\n",
    "def concat(x: str, y: str) -> str:\n",
    "    return x + y\n",
    "\n",
    "\n",
    "x: Callable[..., str]\n",
    "x = str  # OK\n",
    "x = concat  # Also OK\n",
    "\n",
    "\n",
    "# ####\n",
    "\n",
    "from collections.abc import Iterable\n",
    "from typing import Protocol\n",
    "\n",
    "\n",
    "class Combiner(Protocol):\n",
    "    def __call__(self, *vals: bytes, maxlen: int | None = None) -> list[bytes]: ...\n",
    "\n",
    "\n",
    "def batch_proc(data: Iterable[bytes], cb_results: Combiner) -> bytes:\n",
    "    for item in data:\n",
    "        ...\n",
    "\n",
    "\n",
    "def good_cb(*vals: bytes, maxlen: int | None = None) -> list[bytes]: ...\n",
    "\n",
    "\n",
    "batch_proc([], good_cb)  # OK"
   ]
  },
  {
   "cell_type": "code",
   "execution_count": 55,
   "metadata": {},
   "outputs": [
    {
     "name": "stdout",
     "output_type": "stream",
     "text": [
      "fake LED1 ON\n",
      "fake led2 ON\n",
      "fake led2 OFF\n",
      "fake led2 ON\n",
      "fake led2 OFF\n",
      "fake led2 ON\n",
      "fake LED1 OFF\n",
      "fake led2 OFF\n",
      "fake LED1 ON\n",
      "fake led2 ON\n"
     ]
    }
   ],
   "source": [
    "# %%micropython\n",
    "from collections.abc import Callable, Awaitable\n",
    "\n",
    "import asyncio\n",
    "\n",
    "\n",
    "async def blink(led, period_ms):\n",
    "    while True:\n",
    "        await asyncio.sleep_ms(5)\n",
    "        print(f\"fake {led} ON\")\n",
    "        await asyncio.sleep_ms(period_ms)\n",
    "        print(f\"fake {led} OFF\")\n",
    "\n",
    "\n",
    "async def work(todo: List[Callable[[], Awaitable[None]]], timeout_ms: int) -> None:\n",
    "    for task in todo:\n",
    "        asyncio.create_task(task())\n",
    "    await asyncio.sleep_ms(timeout_ms)\n",
    "\n",
    "\n",
    "async def main():\n",
    "    await work(\n",
    "        [\n",
    "            lambda: blink(\"LED1\", 70),\n",
    "            lambda: blink(\"led2\", 20),\n",
    "        ],\n",
    "        90,\n",
    "    )\n",
    "\n",
    "\n",
    "try:\n",
    "    asyncio.run(main())\n",
    "finally:\n",
    "    asyncio.new_event_loop()  # Clear retained stat"
   ]
  },
  {
   "cell_type": "code",
   "execution_count": 56,
   "metadata": {},
   "outputs": [],
   "source": [
    "# %%micropython\n",
    "# https://docs.python.org/3/library/typing.html#generics\n",
    "\n",
    "from collections.abc import Mapping, Sequence\n",
    "\n",
    "\n",
    "class Employee: ...\n",
    "\n",
    "\n",
    "# Sequence[Employee] indicates that all elements in the sequence\n",
    "# must be instances of \"Employee\".\n",
    "# Mapping[str, str] indicates that all keys and all values in the mapping\n",
    "# must be strings.\n",
    "def notify_by_email(employees: Sequence[Employee], overrides: Mapping[str, str]) -> None: ..."
   ]
  },
  {
   "cell_type": "code",
   "execution_count": 57,
   "metadata": {},
   "outputs": [
    {
     "name": "stdout",
     "output_type": "stream",
     "text": [
      "[] [1, 'foo'] {}\n"
     ]
    }
   ],
   "source": [
    "# %%micropython\n",
    "\n",
    "\n",
    "from collections.abc import Mapping\n",
    "\n",
    "# Type checker will infer that all elements in ``x`` are meant to be ints\n",
    "x: list[int] = []\n",
    "\n",
    "# Type checker error: ``list`` only accepts a single type argument:\n",
    "y: list[int, str] = [1, \"foo\"]\n",
    "\n",
    "# Type checker will infer that all keys in ``z`` are meant to be strings,\n",
    "# and that all values in ``z`` are meant to be either strings or ints\n",
    "z: Mapping[str, str | int] = {}\n",
    "\n",
    "print(x, y, z)"
   ]
  },
  {
   "cell_type": "code",
   "execution_count": 58,
   "metadata": {},
   "outputs": [
    {
     "name": "stdout",
     "output_type": "stream",
     "text": [
      "0\n"
     ]
    }
   ],
   "source": [
    "# %%micropython\n",
    "\n",
    "from typing import Generator\n",
    "\n",
    "\n",
    "def echo_round() -> Generator[int, float, str]:\n",
    "    sent = yield 0\n",
    "    while sent >= 0:\n",
    "        sent = yield round(sent)\n",
    "    return \"Done\"\n",
    "\n",
    "\n",
    "e = echo_round()\n",
    "\n",
    "output = next(e)\n",
    "print(output)\n",
    "assert output == 0"
   ]
  },
  {
   "cell_type": "code",
   "execution_count": 59,
   "metadata": {},
   "outputs": [
    {
     "name": "stdout",
     "output_type": "stream",
     "text": [
      "None\n",
      "None\n"
     ]
    }
   ],
   "source": [
    "# %%micropython\n",
    "\n",
    "from typing import Any\n",
    "\n",
    "a: Any = None\n",
    "a = []  # OK\n",
    "a = 2  # OK\n",
    "\n",
    "s: str = \"\"\n",
    "s = a  # OK\n",
    "\n",
    "\n",
    "def foo(item: Any) -> int:\n",
    "    # Passes type checking; 'item' could be any type,\n",
    "    # and that type might have a 'bar' method\n",
    "    item.bar()\n",
    "    return 42\n",
    "\n",
    "\n",
    "def hash_b(item: Any) -> int:\n",
    "    try:\n",
    "        # Passes type checking\n",
    "        item.magic()\n",
    "    except AttributeError:\n",
    "        # just ignore any error for this test\n",
    "        pass\n",
    "    ...\n",
    "\n",
    "\n",
    "# Passes type checking, since Any is compatible with all types\n",
    "print(hash_b(42))\n",
    "print(hash_b(\"foo\"))"
   ]
  },
  {
   "cell_type": "code",
   "execution_count": 60,
   "metadata": {
    "tags": [
     "Raises-Exception"
    ]
   },
   "outputs": [
    {
     "name": "stdout",
     "output_type": "stream",
     "text": [
      "OK, expected: unsupported types for __add__: 'str', 'bytes'\n"
     ]
    }
   ],
   "source": [
    "# %%micropython\n",
    "\n",
    "from typing import AnyStr\n",
    "\n",
    "\n",
    "def concat(a: AnyStr, b: AnyStr) -> AnyStr:\n",
    "    return a + b\n",
    "\n",
    "\n",
    "concat(\"foo\", \"bar\")  # OK, output has type 'str'\n",
    "concat(b\"foo\", b\"bar\")  # OK, output has type 'bytes'\n",
    "try:\n",
    "    concat(\"foo\", b\"bar\")  # Error, cannot mix str and bytes\n",
    "except TypeError as e:\n",
    "    print(\"OK, expected:\", e)"
   ]
  },
  {
   "cell_type": "code",
   "execution_count": 61,
   "metadata": {},
   "outputs": [],
   "source": [
    "# %%micropython\n",
    "\n",
    "from typing import LiteralString\n",
    "\n",
    "\n",
    "def run_query(sql: LiteralString) -> None: ...\n",
    "\n",
    "\n",
    "def caller(arbitrary_string: str, literal_string: LiteralString) -> None:\n",
    "    run_query(\"SELECT * FROM students\")  # OK\n",
    "    run_query(literal_string)  # OK\n",
    "    run_query(\"SELECT * FROM \" + literal_string)  # OK\n",
    "    run_query(arbitrary_string)  # type checker error\n",
    "    run_query(f\"SELECT * FROM students WHERE name = {arbitrary_string}\")  # type checker error\n",
    "\n",
    "    assert isinstance(literal_string, str), \"literal_string should be a string\"\n",
    "    assert isinstance(arbitrary_string, str), \"arbitrary_string should be a string\"\n",
    "\n",
    "\n",
    "some_str = \"a\" * 1000\n",
    "literal_str = \"drop * from tables\"\n",
    "\n",
    "caller(some_str, literal_str)"
   ]
  },
  {
   "cell_type": "code",
   "execution_count": 62,
   "metadata": {
    "tags": [
     "raises-exception"
    ]
   },
   "outputs": [
    {
     "name": "stdout",
     "output_type": "stream",
     "text": [
      "hello\n"
     ]
    },
    {
     "ename": "MCUException",
     "evalue": "RuntimeError: stop execution here\r\n",
     "output_type": "error",
     "traceback": [
      "\u001b[1;31mMCUException\u001b[0m\u001b[1;31m:\u001b[0m RuntimeError: stop execution here\r\n\n"
     ]
    }
   ],
   "source": [
    "# %%micropython\n",
    "\n",
    "from typing import NoReturn\n",
    "\n",
    "\n",
    "def hard_stop() -> NoReturn:\n",
    "    raise RuntimeError(\"stop execution here\")\n",
    "\n",
    "\n",
    "print(\"hello\")\n",
    "hard_stop()\n",
    "\n",
    "# this line will not be executed - but this is not shown a jupyter notebook\n",
    "print(\"world\")"
   ]
  },
  {
   "cell_type": "code",
   "execution_count": 63,
   "metadata": {},
   "outputs": [
    {
     "name": "stdout",
     "output_type": "stream",
     "text": [
      "None\n",
      "None\n"
     ]
    }
   ],
   "source": [
    "# %%micropython\n",
    "\n",
    "from typing import Self, reveal_type\n",
    "\n",
    "\n",
    "class Foo:\n",
    "    def return_self(self) -> Self:\n",
    "        ...\n",
    "        return self\n",
    "\n",
    "\n",
    "class SubclassOfFoo(Foo):\n",
    "    pass\n",
    "\n",
    "\n",
    "# reveal type does not work in micropython\n",
    "\n",
    "print(reveal_type(Foo().return_self()))  # Revealed type is \"Foo\"\n",
    "print(reveal_type(SubclassOfFoo().return_self()))  # Revealed type is \"SubclassOfFoo\""
   ]
  },
  {
   "cell_type": "markdown",
   "metadata": {},
   "source": [
    "typing_extensions\n",
    "\n",
    "This is relevant to MicroPython as it is based on 3.4 / 3.5 syntax.\n",
    "\n",
    "Enable use of new type system features on older Python versions. For example, typing.TypeGuard is new in Python 3.10, but typing_extensions allows users on previous Python versions to use it too.\n",
    "\n",
    "\n",
    "see: https://typing-extensions.readthedocs.io/"
   ]
  },
  {
   "cell_type": "code",
   "execution_count": 73,
   "metadata": {},
   "outputs": [],
   "source": [
    "# %%micropython\n",
    "\n",
    "# In older versions of Python, TypeVarTuple and Unpack\n",
    "# are located in the `typing_extensions` backports package.\n",
    "from typing_extensions import TypeVarTuple, Unpack\n",
    "\n",
    "Ts = TypeVarTuple(\"Ts\")\n",
    "tup: tuple[Unpack[Ts]]  # Semantically equivalent, and backwards-compatible"
   ]
  },
  {
   "cell_type": "code",
   "execution_count": 87,
   "metadata": {},
   "outputs": [
    {
     "name": "stdout",
     "output_type": "stream",
     "text": [
      "Foo\n"
     ]
    }
   ],
   "source": [
    "# %%micropython\n",
    "\n",
    "from typing_extensions import TypeVar, reveal_type\n",
    "\n",
    "Self = TypeVar(\"Self\", bound=\"Foo\")\n",
    "\n",
    "\n",
    "class Foo:\n",
    "    def return_self(self: Self) -> Self:\n",
    "        ...\n",
    "        return self\n",
    "\n",
    "\n",
    "foo = Foo()\n",
    "reveal_type(foo.return_self())  # Revealed type is \"Foo\""
   ]
  },
  {
   "cell_type": "code",
   "execution_count": 86,
   "metadata": {},
   "outputs": [
    {
     "name": "stdout",
     "output_type": "stream",
     "text": [
      "Foo\n",
      "<Foo object at 2000a050>\n",
      "SubclassOfFoo\n",
      "<SubclassOfFoo object at 2000a0c0>\n"
     ]
    }
   ],
   "source": [
    "# %%micropython\n",
    "from typing_extensions import Self, reveal_type\n",
    "\n",
    "\n",
    "class Foo:\n",
    "    def return_self(self) -> Self:\n",
    "        ...\n",
    "        return self\n",
    "\n",
    "\n",
    "class SubclassOfFoo(Foo):\n",
    "    pass\n",
    "\n",
    "\n",
    "print(reveal_type(Foo().return_self()))  # Revealed type is \"Foo\"\n",
    "print(reveal_type(SubclassOfFoo().return_self()))  # Revealed type is \"SubclassOfFoo\""
   ]
  },
  {
   "cell_type": "code",
   "execution_count": 124,
   "metadata": {},
   "outputs": [
    {
     "name": "stdout",
     "output_type": "stream",
     "text": [
      "Trace: __init__ called with args=(<TypeVar object at 20008870>, 'T'), kwargs={}\n",
      "runtime -------------------\n",
      "<TypeVar object at 20008870>\n"
     ]
    },
    {
     "ename": "MCUException",
     "evalue": "TypeError: 'type' object isn't subscriptable\r\n",
     "output_type": "error",
     "traceback": [
      "\u001b[1;31mMCUException\u001b[0m\u001b[1;31m:\u001b[0m TypeError: 'type' object isn't subscriptable\r\n\n"
     ]
    }
   ],
   "source": [
    "# %%micropython\n",
    "\n",
    "from typing import Generic, TypeVar\n",
    "\n",
    "\n",
    "def trace(func):\n",
    "    def wrapper(*args, **kwargs):\n",
    "        print(f\"Trace: {func.__name__} called with args={args}, kwargs={kwargs}\")\n",
    "        return func(*args, **kwargs)\n",
    "\n",
    "    return wrapper\n",
    "\n",
    "\n",
    "class Generic:\n",
    "    # @trace\n",
    "    def __init__(*args, **kwargs):\n",
    "        pass\n",
    "\n",
    "    # @trace\n",
    "    def __getitem__(self, arg):\n",
    "        return 1\n",
    "\n",
    "    ...\n",
    "\n",
    "    # @trace\n",
    "    def __call__(*args, **kwargs):\n",
    "        # May need some guardrails here\n",
    "        pass\n",
    "\n",
    "    # @trace\n",
    "    def __getattr__(self, name):\n",
    "        if name in self.__dict__:\n",
    "            return self.__dict__[name]\n",
    "        return __ignore\n",
    "\n",
    "\n",
    "class TypeVar:\n",
    "    @trace\n",
    "    def __init__(self, name, *constraints, bound=None, covariant=False, contravariant=False):\n",
    "        self.__name__ = name\n",
    "\n",
    "\n",
    "T = TypeVar(\"T\")\n",
    "\n",
    "print(\"runtime -------------------\")\n",
    "print(repr(T))\n",
    "print(Generic[T])\n",
    "\n",
    "\n",
    "class Box(Generic[T]):\n",
    "    def __init__(self, content: T) -> None:\n",
    "        self.content = content\n",
    "\n",
    "    def get_content(self) -> T:\n",
    "        return self.content\n",
    "\n",
    "\n",
    "print(\"runtime -------------------\")\n",
    "# Example usage\n",
    "box_of_strings = Box[str](\"Hello, World!\")\n",
    "print(box_of_strings.get_content())  # Output: Hello, World!\n",
    "\n",
    "box_of_integers = Box[int](123)\n",
    "print(box_of_integers.get_content())  # Output: 123"
   ]
  },
  {
   "cell_type": "code",
   "execution_count": null,
   "metadata": {},
   "outputs": [],
   "source": [
    "# %%micropython\n",
    "\n",
    "from abc import ABC, abstractmethod\n",
    "from math import pi\n",
    "\n",
    "\n",
    "class Shape(ABC):\n",
    "    @abstractmethod\n",
    "    def get_area(self) -> float:\n",
    "        pass\n",
    "\n",
    "    @abstractmethod\n",
    "    def get_perimeter(self) -> float:\n",
    "        pass\n",
    "\n",
    "\n",
    "class Circle(Shape):\n",
    "    def __init__(self, radius) -> None:\n",
    "        self.radius = radius\n",
    "\n",
    "    def get_area(self) -> float:\n",
    "        return pi * self.radius**2\n",
    "\n",
    "    def get_perimeter(self) -> float:\n",
    "        return 2 * pi * self.radius\n",
    "\n",
    "\n",
    "class Square(Shape):\n",
    "    def __init__(self, side) -> None:\n",
    "        self.side = side\n",
    "\n",
    "    def get_area(self) -> float:\n",
    "        return self.side**2\n",
    "\n",
    "    def get_perimeter(self) -> float:\n",
    "        return 4 * self.side"
   ]
  },
  {
   "cell_type": "code",
   "execution_count": null,
   "metadata": {},
   "outputs": [
    {
     "name": "stdout",
     "output_type": "stream",
     "text": [
      "OK - Intentional no runtime check: 'int' object has no attribute 'upper'\n"
     ]
    }
   ],
   "source": [
    "# %%micropython\n",
    "\n",
    "from __future__ import annotations\n",
    "\n",
    "from typing import cast\n",
    "from typing_extensions import reveal_type\n",
    "\n",
    "x = 1\n",
    "reveal_type(x)\n",
    "y = cast(str, x)\n",
    "reveal_type(y)\n",
    "try:\n",
    "    y.upper()\n",
    "except AttributeError as e:\n",
    "    # https://docs.python.org/3/library/typing.html#typing.cast\n",
    "    print(f\"OK - Intentional no runtime check: {e}\")"
   ]
  },
  {
   "cell_type": "code",
   "execution_count": null,
   "metadata": {},
   "outputs": [],
   "source": [
    "# %%micropython\n",
    "\n",
    "from typing import Dict, ParamSpec, Union, get_origin\n",
    "\n",
    "\n",
    "# https://docs.python.org/3/library/typing.html#typing.get_origin\n",
    "\n",
    "assert get_origin(str) is None, \"str\"\n",
    "\n",
    "# Partial implementation of get_origin\n",
    "\n",
    "# assert get_origin(Dict[str, int]) is dict, \"Dict\"\n",
    "# assert get_origin(Union[int, str]) is Union, \"Union\"\n",
    "# P = ParamSpec(\"P\")\n",
    "# assert get_origin(P.args) is P, \"ParamSpec args\"\n",
    "# assert get_origin(P.kwargs) is P, \"ParamSpec kwargs\""
   ]
  },
  {
   "cell_type": "code",
   "execution_count": null,
   "metadata": {},
   "outputs": [
    {
     "name": "stdout",
     "output_type": "stream",
     "text": [
      "add_two was called\n",
      "3\n"
     ]
    }
   ],
   "source": [
    "# %%micropython\n",
    "\n",
    "# ParamSpec, 3.11 notation\n",
    "# https://docs.python.org/3/library/typing.html#typing.ParamSpec\n",
    "\n",
    "from collections.abc import Callable\n",
    "from typing import TypeVar, ParamSpec\n",
    "\n",
    "T = TypeVar(\"T\")\n",
    "P = ParamSpec(\"P\")\n",
    "\n",
    "\n",
    "def add_logging(f: Callable[P, T]) -> Callable[P, T]:\n",
    "    \"\"\"A type-safe decorator to add logging to a function.\"\"\"\n",
    "\n",
    "    def inner(*args: P.args, **kwargs: P.kwargs) -> T:\n",
    "        print(f\"{f.__name__} was called\")\n",
    "        return f(*args, **kwargs)\n",
    "\n",
    "    return inner\n",
    "\n",
    "\n",
    "@add_logging\n",
    "def add_two(x: float, y: float) -> float:\n",
    "    \"\"\"Add two numbers together.\"\"\"\n",
    "    return x + y\n",
    "\n",
    "\n",
    "x = add_two(1, 2)\n",
    "print(x)"
   ]
  },
  {
   "cell_type": "code",
   "execution_count": null,
   "metadata": {},
   "outputs": [],
   "source": [
    "# %%micropython\n",
    "from typing import get_args\n",
    "\n",
    "# partial implementation of get_args\n",
    "assert get_args(int) == ()\n",
    "# assert get_args(Dict[int, str]) == (int, str)\n",
    "# assert get_args(Union[int, str]) == (int, str)"
   ]
  },
  {
   "cell_type": "code",
   "execution_count": null,
   "metadata": {},
   "outputs": [
    {
     "name": "stdout",
     "output_type": "stream",
     "text": [
      "42\n"
     ]
    }
   ],
   "source": [
    "# %%micropython\n",
    "\n",
    "from typing import no_type_check\n",
    "\n",
    "\n",
    "@no_type_check\n",
    "def foo(x: int) -> str:\n",
    "    return x\n",
    "\n",
    "\n",
    "print(foo(\"42\"))"
   ]
  },
  {
   "cell_type": "code",
   "execution_count": null,
   "metadata": {},
   "outputs": [
    {
     "name": "stdout",
     "output_type": "stream",
     "text": [
      "42\n"
     ]
    }
   ],
   "source": [
    "# %%micropython\n",
    "\n",
    "from typing import overload\n",
    "\n",
    "\n",
    "@overload\n",
    "def bar(x: int) -> str: ...\n",
    "\n",
    "\n",
    "@overload\n",
    "def bar(x: str) -> int: ...\n",
    "\n",
    "\n",
    "def bar(x):\n",
    "    return x\n",
    "\n",
    "\n",
    "print(bar(42))"
   ]
  },
  {
   "cell_type": "code",
   "execution_count": null,
   "metadata": {},
   "outputs": [
    {
     "name": "stdout",
     "output_type": "stream",
     "text": [
      "524313\n"
     ]
    }
   ],
   "source": [
    "# %%micropython\n",
    "\n",
    "from typing import NewType\n",
    "\n",
    "UserId = NewType(\"UserId\", int)\n",
    "some_id = UserId(524313)\n",
    "\n",
    "print(some_id)\n",
    "\n",
    "assert isinstance(some_id, int)"
   ]
  },
  {
   "cell_type": "code",
   "execution_count": null,
   "metadata": {},
   "outputs": [],
   "source": [
    "# %%micropython\n",
    "\n",
    "import os\n",
    "\n",
    "try:\n",
    "    os.mkdir(\"collections\")\n",
    "except OSError as e:\n",
    "    pass"
   ]
  },
  {
   "cell_type": "code",
   "execution_count": null,
   "metadata": {},
   "outputs": [
    {
     "name": "stdout",
     "output_type": "stream",
     "text": [
      "['__class__', '__name__', '__dict__', '__file__', '__path__', 'abc']\n",
      "{'__path__': '/lib/collections', 'abc': <module 'collections.abc' from '/lib/collections/abc.mpy'>, '__name__': 'collections', '__file__': '/lib/collections/__init__.mpy'}\n"
     ]
    }
   ],
   "source": [
    "# %%micropython\n",
    "import collections\n",
    "\n",
    "print(dir(collections))\n",
    "print(collections.__dict__)"
   ]
  },
  {
   "cell_type": "code",
   "execution_count": null,
   "metadata": {},
   "outputs": [],
   "source": [
    "# %%micropython\n",
    "from collections.abc import Callable, Awaitable\n",
    "\n",
    "\n",
    "def feeder(get_next_item: Callable[[], str]) -> None: ...  # Body\n",
    "\n",
    "\n",
    "def async_query(\n",
    "    on_success: Callable[[int], None], on_error: Callable[[int, Exception], None]\n",
    ") -> None: ...  # Body\n",
    "\n",
    "\n",
    "async def on_update(value: str) -> None: ...  # Body\n",
    "\n",
    "\n",
    "callback: Callable[[str], Awaitable[None]] = on_update\n",
    "\n",
    "# ...\n",
    "\n",
    "\n",
    "def concat(x: str, y: str) -> str:\n",
    "    return x + y\n",
    "\n",
    "\n",
    "x: Callable[..., str]\n",
    "x = str  # OK\n",
    "x = concat  # Also OK\n",
    "\n",
    "\n",
    "# ####\n",
    "\n",
    "from collections.abc import Iterable\n",
    "from typing import Protocol\n",
    "\n",
    "\n",
    "class Combiner(Protocol):\n",
    "    def __call__(self, *vals: bytes, maxlen: int | None = None) -> list[bytes]: ...\n",
    "\n",
    "\n",
    "def batch_proc(data: Iterable[bytes], cb_results: Combiner) -> bytes:\n",
    "    for item in data:\n",
    "        ...\n",
    "\n",
    "\n",
    "def good_cb(*vals: bytes, maxlen: int | None = None) -> list[bytes]: ...\n",
    "\n",
    "\n",
    "batch_proc([], good_cb)  # OK"
   ]
  },
  {
   "cell_type": "code",
   "execution_count": null,
   "metadata": {},
   "outputs": [],
   "source": [
    "# %%micropython\n",
    "import os"
   ]
  },
  {
   "cell_type": "code",
   "execution_count": null,
   "metadata": {},
   "outputs": [],
   "source": [
    "# %%micropython\n",
    "# https://docs.python.org/3/library/typing.html#generics\n",
    "\n",
    "from collections.abc import Mapping, Sequence\n",
    "\n",
    "\n",
    "class Employee: ...\n",
    "\n",
    "\n",
    "# Sequence[Employee] indicates that all elements in the sequence\n",
    "# must be instances of \"Employee\".\n",
    "# Mapping[str, str] indicates that all keys and all values in the mapping\n",
    "# must be strings.\n",
    "def notify_by_email(employees: Sequence[Employee], overrides: Mapping[str, str]) -> None: ..."
   ]
  },
  {
   "cell_type": "code",
   "execution_count": null,
   "metadata": {},
   "outputs": [],
   "source": [
    "# %%micropython\n",
    "\n",
    "\n",
    "from collections.abc import Mapping\n",
    "\n",
    "# Type checker will infer that all elements in ``x`` are meant to be ints\n",
    "x: list[int] = []\n",
    "\n",
    "# Type checker error: ``list`` only accepts a single type argument:\n",
    "y: list[int, str] = [1, \"foo\"]\n",
    "\n",
    "# Type checker will infer that all keys in ``z`` are meant to be strings,\n",
    "# and that all values in ``z`` are meant to be either strings or ints\n",
    "z: Mapping[str, str | int] = {}"
   ]
  },
  {
   "cell_type": "code",
   "execution_count": null,
   "metadata": {},
   "outputs": [
    {
     "name": "stdout",
     "output_type": "stream",
     "text": [
      "0\n"
     ]
    }
   ],
   "source": [
    "# %%micropython\n",
    "\n",
    "from typing import Generator\n",
    "\n",
    "\n",
    "def echo_round() -> Generator[int, float, str]:\n",
    "    sent = yield 0\n",
    "    while sent >= 0:\n",
    "        sent = yield round(sent)\n",
    "    return \"Done\"\n",
    "\n",
    "\n",
    "e = echo_round()\n",
    "print(next(e))"
   ]
  },
  {
   "cell_type": "code",
   "execution_count": null,
   "metadata": {},
   "outputs": [],
   "source": [
    "# %%micropython\n",
    "\n",
    "from typing import Any\n",
    "\n",
    "a: Any = None\n",
    "a = []  # OK\n",
    "a = 2  # OK\n",
    "\n",
    "s: str = \"\"\n",
    "s = a  # OK\n",
    "\n",
    "\n",
    "def foo(item: Any) -> int:\n",
    "    # Passes type checking; 'item' could be any type,\n",
    "    # and that type might have a 'bar' method\n",
    "    item.bar()\n",
    "    return 42\n",
    "\n",
    "\n",
    "def hash_b(item: Any) -> int:\n",
    "    try:\n",
    "        # Passes type checking\n",
    "        item.magic()\n",
    "    except AttributeError:\n",
    "        # just ignore any error for this test\n",
    "        pass\n",
    "    ...\n",
    "\n",
    "\n",
    "# Passes type checking, since Any is compatible with all types\n",
    "hash_b(42)\n",
    "hash_b(\"foo\")"
   ]
  },
  {
   "cell_type": "code",
   "execution_count": null,
   "metadata": {},
   "outputs": [
    {
     "name": "stdout",
     "output_type": "stream",
     "text": [
      "OK, expected: unsupported types for __add__: 'str', 'bytes'\n"
     ]
    }
   ],
   "source": [
    "# %%micropython\n",
    "\n",
    "from typing import AnyStr\n",
    "\n",
    "\n",
    "def concat(a: AnyStr, b: AnyStr) -> AnyStr:\n",
    "    return a + b\n",
    "\n",
    "\n",
    "concat(\"foo\", \"bar\")  # OK, output has type 'str'\n",
    "concat(b\"foo\", b\"bar\")  # OK, output has type 'bytes'\n",
    "try:\n",
    "    concat(\"foo\", b\"bar\")  # Error, cannot mix str and bytes\n",
    "except TypeError as e:\n",
    "    print(\"OK, expected:\", e)"
   ]
  },
  {
   "cell_type": "code",
   "execution_count": null,
   "metadata": {},
   "outputs": [],
   "source": [
    "# %%micropython\n",
    "\n",
    "from typing import LiteralString\n",
    "\n",
    "\n",
    "def run_query(sql: LiteralString) -> None: ...\n",
    "\n",
    "\n",
    "def caller(arbitrary_string: str, literal_string: LiteralString) -> None:\n",
    "    run_query(\"SELECT * FROM students\")  # OK\n",
    "    run_query(literal_string)  # OK\n",
    "    run_query(\"SELECT * FROM \" + literal_string)  # OK\n",
    "    run_query(arbitrary_string)  # type checker error\n",
    "    run_query(f\"SELECT * FROM students WHERE name = {arbitrary_string}\")  # type checker error\n",
    "\n",
    "\n",
    "some_str = \"a\" * 1000\n",
    "literal_str = \"drop * from tables\"\n",
    "\n",
    "caller(some_str, literal_str)"
   ]
  },
  {
   "cell_type": "code",
   "execution_count": null,
   "metadata": {},
   "outputs": [],
   "source": [
    "# %%micropython\n",
    "\n",
    "from typing import NoReturn\n",
    "\n",
    "\n",
    "def stop() -> NoReturn:\n",
    "    raise RuntimeError(\"no way\")"
   ]
  },
  {
   "cell_type": "code",
   "execution_count": null,
   "metadata": {},
   "outputs": [
    {
     "name": "stdout",
     "output_type": "stream",
     "text": [
      "None\n",
      "None\n"
     ]
    }
   ],
   "source": [
    "# %%micropython\n",
    "\n",
    "from typing import Self, reveal_type\n",
    "\n",
    "\n",
    "class Foo:\n",
    "    def return_self(self) -> Self:\n",
    "        ...\n",
    "        return self\n",
    "\n",
    "\n",
    "class SubclassOfFoo(Foo):\n",
    "    pass\n",
    "\n",
    "\n",
    "print(reveal_type(Foo().return_self()))  # Revealed type is \"Foo\"\n",
    "print(reveal_type(SubclassOfFoo().return_self()))  # Revealed type is \"SubclassOfFoo\""
   ]
  },
  {
   "cell_type": "code",
   "execution_count": null,
   "metadata": {},
   "outputs": [
    {
     "name": "stdout",
     "output_type": "stream",
     "text": [
      "TODO: Add some tests\n"
     ]
    }
   ],
   "source": [
    "# %%micropython\n",
    "\n",
    "# ABCs for working with IO\n",
    "# Generic type IO[AnyStr] and its subclasses TextIO(IO[str]) and BinaryIO(IO[bytes]) represent the types of I/O streams such as returned by open().\n",
    "\n",
    "from typing import IO\n",
    "from typing import TextIO\n",
    "from typing import BinaryIO\n",
    "\n",
    "print(\"TODO: Add some tests\")"
   ]
  },
  {
   "cell_type": "code",
   "execution_count": null,
   "metadata": {},
   "outputs": [
    {
     "name": "stdout",
     "output_type": "stream",
     "text": [
      "@runtime_checkable, not supported: issubclass() arg 2 must be a class or a tuple of classes\n"
     ]
    }
   ],
   "source": [
    "# %%micropython\n",
    "\n",
    "from typing import runtime_checkable, Protocol\n",
    "\n",
    "\n",
    "@runtime_checkable\n",
    "class Closable(Protocol):\n",
    "    def close(self): ...\n",
    "\n",
    "\n",
    "try:\n",
    "    assert isinstance(open(\"lib/typing.mpy\"), Closable)\n",
    "except TypeError as e:\n",
    "    print(f\"@runtime_checkable, not supported: {e}\")"
   ]
  },
  {
   "cell_type": "code",
   "execution_count": null,
   "metadata": {},
   "outputs": [
    {
     "name": "stdout",
     "output_type": "stream",
     "text": [
      "OK, 3.12 syntax not supported\n"
     ]
    }
   ],
   "source": [
    "# %%micropython\n",
    "\n",
    "# 3.12 type parameter syntax\n",
    "# https://docs.python.org/3/reference/simple_stmts.html#the-type-statement\n",
    "\n",
    "\n",
    "# type Point = tuple[float, float]\n",
    "\n",
    "print(\"OK, 3.12 syntax not supported\")"
   ]
  },
  {
   "cell_type": "code",
   "execution_count": null,
   "metadata": {},
   "outputs": [
    {
     "name": "stdout",
     "output_type": "stream",
     "text": [
      "OK, 3.12 syntax not supported\n"
     ]
    }
   ],
   "source": [
    "# %%micropython\n",
    "\n",
    "# 3.12 type parameter syntax not supported\n",
    "\n",
    "# from collections.abc import Sequence\n",
    "\n",
    "# def first[T](l: Sequence[T]) -> T:  # Function is generic over the TypeVar \"T\"\n",
    "#     return l[0]\n",
    "\n",
    "# from collections.abc import Sequence\n",
    "# from typing import TypeVar\n",
    "\n",
    "# U = TypeVar('U')                  # Declare type variable \"U\"\n",
    "\n",
    "# def second(l: Sequence[U]) -> U:  # Function is generic over the TypeVar \"U\"\n",
    "\n",
    "print(\"OK, 3.12 syntax not supported\")"
   ]
  },
  {
   "cell_type": "code",
   "execution_count": null,
   "metadata": {},
   "outputs": [
    {
     "name": "stdout",
     "output_type": "stream",
     "text": [
      "metaclass not supported\n"
     ]
    }
   ],
   "source": [
    "# # %%micropython\n",
    "\n",
    "# from abc import ABCMeta\n",
    "\n",
    "\n",
    "# class MyABC(metaclass=ABCMeta):\n",
    "#     pass\n",
    "\n",
    "print(\"metaclass not supported\")"
   ]
  },
  {
   "cell_type": "code",
   "execution_count": null,
   "metadata": {},
   "outputs": [
    {
     "name": "stdout",
     "output_type": "stream",
     "text": [
      "True\n"
     ]
    },
    {
     "ename": "MCUException",
     "evalue": "TypeError: can't create 'NoneType' instances\r\n",
     "output_type": "error",
     "traceback": [
      "\u001b[1;31mMCUException\u001b[0m\u001b[1;31m:\u001b[0m TypeError: can't create 'NoneType' instances\r\n",
      "\n"
     ]
    }
   ],
   "source": [
    "from typing import final\n",
    "\n",
    "\n",
    "class Base:\n",
    "    @final\n",
    "    def done(self) -> None: ...\n",
    "class Sub(Base):\n",
    "    def done(self) -> None:  # Error reported by type checker\n",
    "        ...\n",
    "\n",
    "\n",
    "@final\n",
    "class Leaf: ...\n",
    "\n",
    "\n",
    "class Other(Leaf):  # Error reported by type checker\n",
    "    ...\n",
    "\n",
    "\n",
    "other = Other()"
   ]
  },
  {
   "cell_type": "code",
   "execution_count": null,
   "metadata": {},
   "outputs": [],
   "source": []
  },
  {
   "cell_type": "markdown",
   "metadata": {},
   "source": [
    "asyncio"
   ]
  },
  {
   "cell_type": "code",
   "execution_count": 64,
   "metadata": {},
   "outputs": [
    {
     "name": "stdout",
     "output_type": "stream",
     "text": [
      "TODO: Add some tests\n"
     ]
    }
   ],
   "source": [
    "# %%micropython\n",
    "\n",
    "# ABCs for working with IO\n",
    "# Generic type IO[AnyStr] and its subclasses TextIO(IO[str]) and BinaryIO(IO[bytes]) represent the types of I/O streams such as returned by open().\n",
    "\n",
    "from typing import IO\n",
    "from typing import TextIO\n",
    "from typing import BinaryIO\n",
    "\n",
    "print(\"TODO: Add some tests\")"
   ]
  },
  {
   "cell_type": "code",
   "execution_count": 65,
   "metadata": {},
   "outputs": [
    {
     "name": "stdout",
     "output_type": "stream",
     "text": [
      "@runtime_checkable, not supported: issubclass() arg 2 must be a class or a tuple of classes\n"
     ]
    }
   ],
   "source": [
    "# %%micropython\n",
    "\n",
    "from typing import runtime_checkable, Protocol\n",
    "\n",
    "\n",
    "@runtime_checkable\n",
    "class Closable(Protocol):\n",
    "    def close(self): ...\n",
    "\n",
    "\n",
    "try:\n",
    "    assert isinstance(open(\"lib/typing.mpy\"), Closable)\n",
    "except TypeError as e:\n",
    "    print(f\"@runtime_checkable, not supported: {e}\")"
   ]
  },
  {
   "cell_type": "code",
   "execution_count": 66,
   "metadata": {},
   "outputs": [
    {
     "name": "stdout",
     "output_type": "stream",
     "text": [
      "OK, 3.12 syntax not supported\n"
     ]
    }
   ],
   "source": [
    "# %%micropython\n",
    "\n",
    "# 3.12 type parameter syntax\n",
    "# https://docs.python.org/3/reference/simple_stmts.html#the-type-statement\n",
    "\n",
    "\n",
    "# type Point = tuple[float, float]\n",
    "\n",
    "print(\"OK, 3.12 syntax not supported\")"
   ]
  },
  {
   "cell_type": "code",
   "execution_count": 67,
   "metadata": {},
   "outputs": [
    {
     "name": "stdout",
     "output_type": "stream",
     "text": [
      "OK, 3.12 syntax not supported\n"
     ]
    }
   ],
   "source": [
    "# %%micropython\n",
    "\n",
    "# 3.12 type parameter syntax not supported\n",
    "\n",
    "# from collections.abc import Sequence\n",
    "\n",
    "# def first[T](l: Sequence[T]) -> T:  # Function is generic over the TypeVar \"T\"\n",
    "#     return l[0]\n",
    "\n",
    "# from collections.abc import Sequence\n",
    "# from typing import TypeVar\n",
    "\n",
    "# U = TypeVar('U')                  # Declare type variable \"U\"\n",
    "\n",
    "# def second(l: Sequence[U]) -> U:  # Function is generic over the TypeVar \"U\"\n",
    "\n",
    "print(\"OK, 3.12 syntax not supported\")"
   ]
  },
  {
   "cell_type": "code",
   "execution_count": 68,
   "metadata": {},
   "outputs": [
    {
     "name": "stdout",
     "output_type": "stream",
     "text": [
      "metaclass not supported\n"
     ]
    }
   ],
   "source": [
    "# # %%micropython\n",
    "\n",
    "# from abc import ABCMeta\n",
    "\n",
    "\n",
    "# class MyABC(metaclass=ABCMeta):\n",
    "#     pass\n",
    "\n",
    "print(\"metaclass not supported\")"
   ]
  },
  {
   "cell_type": "code",
   "execution_count": 69,
   "metadata": {},
   "outputs": [],
   "source": [
    "# %%micropython\n",
    "\n",
    "#\n",
    "# Currently not implemented in micropython\n",
    "#\n",
    "\n",
    "# from typing import get_args\n",
    "\n",
    "# partial implementation of get_args\n",
    "# assert get_args(int) == ()\n",
    "# assert get_args(Dict[int, str]) == (int, str)\n",
    "# assert get_args(Union[int, str]) == (int, str)"
   ]
  },
  {
   "cell_type": "code",
   "execution_count": null,
   "metadata": {},
   "outputs": [],
   "source": []
  }
 ],
 "metadata": {
  "kernelspec": {
   "display_name": ".venv",
   "language": "python",
   "name": "python3"
  },
  "language_info": {
   "codemirror_mode": {
    "name": "ipython",
    "version": 3
   },
   "file_extension": ".py",
   "mimetype": "text/x-python",
   "name": "python",
   "nbconvert_exporter": "python",
   "pygments_lexer": "ipython3",
   "version": "3.11.9"
  }
 },
 "nbformat": 4,
 "nbformat_minor": 2
}

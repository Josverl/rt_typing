{
 "cells": [
  {
   "cell_type": "markdown",
   "metadata": {},
   "source": [
    "A simple notebook to \n",
    "- mpremote mip install __futures__ \n",
    "- cross compile the `mp/**/*.py` modules using mpy-cross\n",
    "- copy the resulting `.mpy` files to the target board's /lib directory\n",
    "- do a simple sanity check to see if the modules can be loaded \n"
   ]
  },
  {
   "cell_type": "code",
   "execution_count": 142,
   "metadata": {},
   "outputs": [],
   "source": [
    "%%capture --no-stderr --no-display\n",
    "%load_ext micropython_magic"
   ]
  },
  {
   "cell_type": "code",
   "execution_count": 143,
   "metadata": {},
   "outputs": [],
   "source": [
    "%mpy --verify"
   ]
  },
  {
   "cell_type": "code",
   "execution_count": 144,
   "metadata": {},
   "outputs": [
    {
     "name": "stdout",
     "output_type": "stream",
     "text": [
      "Install __future__\n",
      "Installing __future__ (latest) from https://micropython.org/pi/v2 to /lib\n",
      "Installing: /lib/__future__.mpy\n",
      "Done\n"
     ]
    }
   ],
   "source": [
    "!mpremote mip install __future__"
   ]
  },
  {
   "cell_type": "code",
   "execution_count": 145,
   "metadata": {},
   "outputs": [
    {
     "name": "stdout",
     "output_type": "stream",
     "text": [
      "d:\\mypython\\!-stubtestprojects\\rt_typing\\mp\n",
      "d:\\mypython\\!-stubtestprojects\\rt_typing\n"
     ]
    }
   ],
   "source": [
    "%cd mp\n",
    "!mpy-cross typing.py -O3\n",
    "!mpy-cross typing_extensions.py -O3\n",
    "!mpy-cross abc.py -O3\n",
    "!mpy-cross collections/abc.py -O3\n",
    "%cd ..\n",
    "\n",
    "# %ls -l mp"
   ]
  },
  {
   "cell_type": "code",
   "execution_count": 146,
   "metadata": {},
   "outputs": [
    {
     "name": "stdout",
     "output_type": "stream",
     "text": [
      "cp mp/typing.mpy :/lib/typing.mpy\n",
      "cp mp/typing_extensions.mpy :/lib/typing_extensions.mpy\n",
      "cp mp/abc.mpy :/lib/abc.mpy\n",
      "mkdir :/lib/collections\n",
      "Traceback (most recent call last):\n",
      "\n",
      "  File \"<stdin>\", line 2, in <module>\n",
      "\n",
      "OSError: [Errno 17] EEXIST\n",
      "\n",
      "\n",
      "cp mp/collections/abc.mpy :/lib/collections/abc.mpy\n",
      "rm :/collections\n",
      "Traceback (most recent call last):\n",
      "\n",
      "  File \"<stdin>\", line 2, in <module>\n",
      "\n",
      "OSError: [Errno 2] ENOENT\n",
      "\n",
      "\n",
      "ls :\n",
      "           0 lib/\n",
      "ls :/lib\n",
      "         202 __future__.mpy\n",
      "          43 abc.mpy\n",
      "           0 collections/\n",
      "         321 typing.mpy\n",
      "          57 typing_extensions.mpy\n",
      "ls :/lib/collections\n",
      "          55 abc.mpy\n"
     ]
    }
   ],
   "source": [
    "!mpremote cp mp/typing.mpy :/lib/typing.mpy\n",
    "!mpremote cp mp/typing_extensions.mpy :/lib/typing_extensions.mpy\n",
    "!mpremote cp mp/abc.mpy :/lib/abc.mpy\n",
    "\n",
    "\n",
    "!mpremote mkdir :/lib/collections\n",
    "!mpremote cp mp/collections/abc.mpy :/lib/collections/abc.mpy\n",
    "\n",
    "# sometimes a /collections is created - clean it up if it exists\n",
    "!mpremote rm :/collections\n",
    "!mpremote ls \n",
    "!mpremote ls :/lib\n",
    "!mpremote ls :/lib/collections"
   ]
  },
  {
   "cell_type": "code",
   "execution_count": 147,
   "metadata": {},
   "outputs": [
    {
     "name": "stdout",
     "output_type": "stream",
     "text": [
      "True\n"
     ]
    }
   ],
   "source": [
    "# %%micropython --reset\n",
    "import __future__\n",
    "import typing\n",
    "import typing_extensions\n",
    "import abc\n",
    "from collections.abc import Collection"
   ]
  }
 ],
 "metadata": {
  "kernelspec": {
   "display_name": ".venv",
   "language": "python",
   "name": "python3"
  },
  "language_info": {
   "codemirror_mode": {
    "name": "ipython",
    "version": 3
   },
   "file_extension": ".py",
   "mimetype": "text/x-python",
   "name": "python",
   "nbconvert_exporter": "python",
   "pygments_lexer": "ipython3",
   "version": "3.11.9"
  }
 },
 "nbformat": 4,
 "nbformat_minor": 2
}

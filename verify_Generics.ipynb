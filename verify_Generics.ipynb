{
 "cells": [
  {
   "cell_type": "markdown",
   "metadata": {},
   "source": [
    "This is an early exploration to get runtime support for `Generics` to work in MicroPython \n"
   ]
  },
  {
   "cell_type": "code",
   "execution_count": 13,
   "metadata": {},
   "outputs": [
    {
     "name": "stdout",
     "output_type": "stream",
     "text": [
      "Install __future__\n",
      "Installing __future__ (latest) from https://micropython.org/pi/v2 to /lib\n",
      "Installing: /lib/__future__.mpy\n",
      "Done\n",
      "d:\\mypython\\!-stubtestprojects\\rt_typing\\mp\n"
     ]
    },
    {
     "name": "stderr",
     "output_type": "stream",
     "text": [
      "d:\\mypython\\!-stubtestprojects\\rt_typing\\.venv\\Lib\\site-packages\\IPython\\core\\magics\\osm.py:417: UserWarning: This is now an optional IPython functionality, setting dhist requires you to install the `pickleshare` library.\n",
      "  self.shell.db['dhist'] = compress_dhist(dhist)[-100:]\n"
     ]
    },
    {
     "name": "stdout",
     "output_type": "stream",
     "text": [
      "d:\\mypython\\!-stubtestprojects\\rt_typing\n",
      "ls :/\n",
      "           0 lib/\n",
      "ls :/lib\n",
      "         202 __future__.mpy\n",
      "          70 abc.mpy\n",
      "           0 collections/\n",
      "         381 typing.mpy\n",
      "          66 typing_extensions.mpy\n",
      "ls :/lib/collections\n",
      "          82 abc.mpy\n",
      "True\n"
     ]
    }
   ],
   "source": [
    "%run ./deploy.ipynb"
   ]
  },
  {
   "cell_type": "markdown",
   "metadata": {},
   "source": [
    "### Generics in MicroPython"
   ]
  },
  {
   "cell_type": "code",
   "execution_count": 10,
   "metadata": {},
   "outputs": [
    {
     "name": "stdout",
     "output_type": "stream",
     "text": [
      "a\n",
      "1\n"
     ]
    }
   ],
   "source": [
    "# python\n",
    "from typing import List, TypeVar\n",
    "\n",
    "T = TypeVar(\"T\")\n",
    "\n",
    "\n",
    "def first(container: List[T]) -> T:\n",
    "    return container[0]\n",
    "\n",
    "\n",
    "list_one: List[str] = [\"a\", \"b\", \"c\"]\n",
    "print(first(list_one))\n",
    "\n",
    "list_two: List[int] = [1, 2, 3]\n",
    "print(first(list_two))"
   ]
  },
  {
   "cell_type": "code",
   "execution_count": 12,
   "metadata": {},
   "outputs": [
    {
     "name": "stdout",
     "output_type": "stream",
     "text": [
      "a\n",
      "str\n",
      "a\n",
      "1\n",
      "int\n",
      "1\n"
     ]
    }
   ],
   "source": [
    "# %%micropython\n",
    "from typing import List, TypeVar, reveal_type\n",
    "\n",
    "T = TypeVar(\"T\")\n",
    "\n",
    "\n",
    "def first(container: List[T]) -> T:\n",
    "    return container[0]\n",
    "\n",
    "\n",
    "list_one: List[str] = [\"a\", \"b\", \"c\"]\n",
    "print(first(list_one))\n",
    "print(reveal_type(first(list_one)))\n",
    "\n",
    "list_two: List[int] = [1, 2, 3]\n",
    "print(first(list_two))\n",
    "print(reveal_type(first(list_two)))"
   ]
  },
  {
   "cell_type": "code",
   "execution_count": 16,
   "metadata": {},
   "outputs": [
    {
     "name": "stdout",
     "output_type": "stream",
     "text": [
      "1\n"
     ]
    }
   ],
   "source": [
    "# python\n",
    "\n",
    "from typing import Dict, TypeVar\n",
    "\n",
    "K = TypeVar(\"K\")\n",
    "V = TypeVar(\"V\")\n",
    "\n",
    "\n",
    "def get_item(key: K, container: Dict[K, V]) -> V:\n",
    "    return container[key]\n",
    "\n",
    "\n",
    "test: Dict[str, int] = {\"k\": 1}\n",
    "print(get_item(\"k\", test))\n",
    "assert isinstance(get_item(\"k\", test), int), \"Expected int\""
   ]
  },
  {
   "cell_type": "code",
   "execution_count": 17,
   "metadata": {},
   "outputs": [
    {
     "name": "stdout",
     "output_type": "stream",
     "text": [
      "1\n"
     ]
    }
   ],
   "source": [
    "# %%micropython\n",
    "\n",
    "from typing import Dict, TypeVar\n",
    "\n",
    "K = TypeVar(\"K\")\n",
    "V = TypeVar(\"V\")\n",
    "\n",
    "\n",
    "def get_item(key: K, container: Dict[K, V]) -> V:\n",
    "    return container[key]\n",
    "\n",
    "\n",
    "test: Dict[str, int] = {\"k\": 1}\n",
    "print(get_item(\"k\", test))\n",
    "assert isinstance(get_item(\"k\", test), int), \"Expected int\""
   ]
  },
  {
   "cell_type": "markdown",
   "metadata": {},
   "source": [
    "### User defined Generic Types\n"
   ]
  },
  {
   "cell_type": "code",
   "execution_count": 21,
   "metadata": {},
   "outputs": [
    {
     "name": "stdout",
     "output_type": "stream",
     "text": [
      "{'_store': {'husband': 'steve', 'dad': 'john'}, '__orig_class__': __main__.Registry[str]}\n"
     ]
    }
   ],
   "source": [
    "# python\n",
    "from typing import Dict, Generic, TypeVar\n",
    "\n",
    "T = TypeVar(\"T\")\n",
    "\n",
    "\n",
    "class Registry(Generic[T]):\n",
    "    def __init__(self) -> None:\n",
    "        self._store: Dict[str, T] = {}\n",
    "\n",
    "    def set_item(self, k: str, v: T) -> None:\n",
    "        self._store[k] = v\n",
    "\n",
    "    def get_item(self, k: str) -> T:\n",
    "        return self._store[k]\n",
    "\n",
    "\n",
    "family_name_reg = Registry[str]()\n",
    "family_age_reg = Registry[int]()\n",
    "\n",
    "family_name_reg.set_item(\"husband\", \"steve\")\n",
    "family_name_reg.set_item(\"dad\", \"john\")\n",
    "\n",
    "family_age_reg.set_item(\"steve\", 30)\n",
    "\n",
    "print(repr(family_name_reg.__dict__))"
   ]
  },
  {
   "cell_type": "code",
   "execution_count": 26,
   "metadata": {},
   "outputs": [],
   "source": [
    "# %%micropython\n",
    "def trace(func):\n",
    "\n",
    "    def wrapper(*args, **kwargs):\n",
    "        print(f\"Trace: {func.__name__} called with args={args}, kwargs={kwargs}\")\n",
    "        return func(*args, **kwargs)\n",
    "\n",
    "    return wrapper"
   ]
  },
  {
   "cell_type": "code",
   "execution_count": 30,
   "metadata": {},
   "outputs": [
    {
     "name": "stdout",
     "output_type": "stream",
     "text": [
      "1\n",
      "2\n"
     ]
    },
    {
     "ename": "MCUException",
     "evalue": "TypeError: 'type' object isn't subscriptable\r\n",
     "output_type": "error",
     "traceback": [
      "\u001b[1;31mMCUException\u001b[0m\u001b[1;31m:\u001b[0m TypeError: 'type' object isn't subscriptable\r\n\n"
     ]
    }
   ],
   "source": [
    "# %%micropython\n",
    "from typing import Dict, Generic, TypeVar\n",
    "\n",
    "\n",
    "class Generic:\n",
    "    \"\"\"A class to ignore type hints in code.\"\"\"\n",
    "\n",
    "    @trace\n",
    "    def __init__(*args, **kwargs):\n",
    "        pass\n",
    "\n",
    "    @trace\n",
    "    def __call__(*args, **kwargs):\n",
    "        # May need some guardrails here\n",
    "        pass\n",
    "\n",
    "    @trace\n",
    "    def get_item(self, k):\n",
    "\n",
    "        return \"foo\"\n",
    "\n",
    "    @trace\n",
    "    def __getitem__(self, arg):\n",
    "        # May need some guardrails here\n",
    "        return __ignore\n",
    "\n",
    "    # @trace\n",
    "    def __getattr__(self, name):\n",
    "        if name in self.__dict__:\n",
    "            return self.__dict__[name]\n",
    "        # return __ignore\n",
    "\n",
    "\n",
    "print(1)\n",
    "T = TypeVar(\"T\")\n",
    "\n",
    "print(2)\n",
    "\n",
    "class Registry(Generic[T]):\n",
    "    def __init__(self) -> None:\n",
    "\n",
    "        # self._store: Dict[str, T] = {}\n",
    "        pass\n",
    "\n",
    "    def set_item(self, k: str, v: T) -> None:\n",
    "        # self._store[k] = v\n",
    "        pass\n",
    "\n",
    "    def get_item(self, k: str) -> T:\n",
    "        # return self._store[k]\n",
    "        pass\n",
    "\n",
    "print(3)\n",
    "\n",
    "family_name_reg = Registry[str]()\n",
    "family_age_reg = Registry[int]()\n",
    "\n",
    "family_name_reg.set_item(\"husband\", \"steve\")\n",
    "family_name_reg.set_item(\"dad\", \"john\")\n",
    "\n",
    "family_age_reg.set_item(\"steve\", 30)\n",
    "\n",
    "print(repr(family_name_reg.__dict__))"
   ]
  },
  {
   "cell_type": "code",
   "execution_count": 35,
   "metadata": {},
   "outputs": [
    {
     "name": "stdout",
     "output_type": "stream",
     "text": [
      "['__call__', '__class__', '__getattr__', '__getitem__', '__init__', '__module__', '__name__', '__qualname__', '__bases__', '__dict__', 'get_item']\n",
      "['__class__', 'append', 'clear', 'copy', 'count', 'extend', 'index', 'insert', 'pop', 'remove', 'reverse', 'sort']\n"
     ]
    }
   ],
   "source": [
    "# %%micropython \n",
    "print(dir(Generic))\n",
    "\n",
    "l=[1,2,3]\n",
    "print(dir(l))"
   ]
  },
  {
   "cell_type": "code",
   "execution_count": null,
   "metadata": {},
   "outputs": [
    {
     "name": "stdout",
     "output_type": "stream",
     "text": [
      "{'_store': {'husband': 'steve', 'dad': 'john'}, '__orig_class__': __main__.Registry[str]}\n"
     ]
    }
   ],
   "source": [
    "# python\n",
    "from typing import Dict, Generic, TypeVar\n",
    "\n",
    "T = TypeVar(\"T\")\n",
    "\n",
    "\n",
    "class Registry(Generic[T]):\n",
    "    def __init__(self) -> None:\n",
    "        self._store: Dict[str, T] = {}\n",
    "\n",
    "    def set_item(self, k: str, v: T) -> None:\n",
    "        self._store[k] = v\n",
    "\n",
    "    def get_item(self, k: str) -> T:\n",
    "        return self._store[k]\n",
    "\n",
    "\n",
    "family_name_reg = Registry[str]()\n",
    "family_age_reg = Registry[int]()\n",
    "\n",
    "family_name_reg.set_item(\"husband\", \"steve\")\n",
    "family_name_reg.set_item(\"dad\", \"john\")\n",
    "\n",
    "family_age_reg.set_item(\"steve\", 30)\n",
    "\n",
    "print(repr(family_name_reg.__dict__))"
   ]
  },
  {
   "cell_type": "markdown",
   "metadata": {},
   "source": [
    "Example code in Python 3"
   ]
  },
  {
   "cell_type": "code",
   "execution_count": 9,
   "metadata": {},
   "outputs": [
    {
     "name": "stdout",
     "output_type": "stream",
     "text": [
      "step 1 -------------------\n",
      "~T\n",
      "step 2 -------------------\n",
      "step 3 -------------------\n",
      "Trace: __init_subclass__ called with args=(<class '__main__.SomeBaseClass'>,), kwargs={}\n",
      "step 4 -------------------\n",
      "<class '__main__.SomeBaseClass'>\n",
      "step 5 -------------------\n",
      "Trace: __init__ called with args=(<__main__.SomeBaseClass object at 0x0000018F6190E910>,), kwargs={}\n",
      "<class 'int'>\n",
      "<__main__.SomeBaseClass object at 0x0000018F6190E910>\n"
     ]
    }
   ],
   "source": [
    "from typing import Any, get_args\n",
    "from typing import Generic, TypeVar\n",
    "\n",
    "\n",
    "def trace(func):\n",
    "    def wrapper(*args, **kwargs):\n",
    "        print(f\"Trace: {func.__name__} called with args={args}, kwargs={kwargs}\")\n",
    "        return func(*args, **kwargs)\n",
    "\n",
    "    return wrapper\n",
    "\n",
    "\n",
    "print(\"step 1 -------------------\")\n",
    "T = TypeVar(\"T\")\n",
    "\n",
    "print(repr(T))\n",
    "print(\"step 2 -------------------\")\n",
    "\n",
    "# Generic[T]\n",
    "\n",
    "\n",
    "class MyGenericClass(Generic[T]):\n",
    "    _type_T: Any\n",
    "\n",
    "    @trace\n",
    "    def __init_subclass__(cls) -> None:\n",
    "        cls._type_T = get_args(cls.__orig_bases__[0])[0]  # type: ignore\n",
    "\n",
    "\n",
    "print(\"step 3 -------------------\")\n",
    "\n",
    "\n",
    "class SomeBaseClass(MyGenericClass[int]):\n",
    "    @trace\n",
    "    def __init__(self) -> None:\n",
    "        print(self._type_T)\n",
    "\n",
    "\n",
    "print(\"step 4 -------------------\")\n",
    "\n",
    "print(repr(SomeBaseClass))\n",
    "\n",
    "print(\"step 5 -------------------\")\n",
    "print(SomeBaseClass())"
   ]
  },
  {
   "cell_type": "code",
   "execution_count": 2,
   "metadata": {},
   "outputs": [
    {
     "name": "stdout",
     "output_type": "stream",
     "text": [
      "step 1 -------------------\n",
      "Trace: __init__ called with args=(<TypeVar object at 2000b410>, 'T'), kwargs={}\n",
      "step 2 -------------------\n"
     ]
    },
    {
     "ename": "MCUException",
     "evalue": "TypeError: 'type' object isn't subscriptable\r\n",
     "output_type": "error",
     "traceback": [
      "\u001b[1;31mMCUException\u001b[0m\u001b[1;31m:\u001b[0m TypeError: 'type' object isn't subscriptable\r\n\n"
     ]
    }
   ],
   "source": [
    "# %%micropython\n",
    "from typing import Any, get_args\n",
    "\n",
    "# from typing import  Generic, TypeVar\n",
    "\n",
    "\n",
    "def trace(func):\n",
    "    def wrapper(*args, **kwargs):\n",
    "        print(f\"Trace: {func.__name__} called with args={args}, kwargs={kwargs}\")\n",
    "        return func(*args, **kwargs)\n",
    "\n",
    "    return wrapper\n",
    "\n",
    "\n",
    "###########################################\n",
    "class TypeVar:\n",
    "    @trace\n",
    "    def __init__(self, name, *constraints, bound=None, covariant=False, contravariant=False):\n",
    "        self.__name__ = name\n",
    "\n",
    "\n",
    "class _Final:\n",
    "    \"\"\"Mixin to prohibit subclassing.\"\"\"\n",
    "\n",
    "    __slots__ = (\"__weakref__\",)\n",
    "\n",
    "    def __init_subclass__(cls, *args, **kwds):\n",
    "        if \"_root\" not in kwds:\n",
    "            raise TypeError(\"Cannot subclass special typing classes\")\n",
    "\n",
    "\n",
    "def _is_dunder(attr):\n",
    "    return attr.startswith(\"__\") and attr.endswith(\"__\")\n",
    "\n",
    "\n",
    "class _BaseGenericAlias(_Final):  # , _root=True):\n",
    "    \"\"\"The central part of the internal API.\n",
    "\n",
    "    This represents a generic version of type 'origin' with type arguments 'params'.\n",
    "    There are two kind of these aliases: user defined and special. The special ones\n",
    "    are wrappers around builtin collections and ABCs in collections.abc. These must\n",
    "    have 'name' always set. If 'inst' is False, then the alias can't be instantiated;\n",
    "    this is used by e.g. typing.List and typing.Dict.\n",
    "    \"\"\"\n",
    "\n",
    "    @trace\n",
    "    def __init__(self, origin, *, inst=True, name=None):\n",
    "        self._inst = inst\n",
    "        self._name = name\n",
    "        self.__origin__ = origin\n",
    "        self.__slots__ = None  # This is not documented.\n",
    "\n",
    "    @trace\n",
    "    def __call__(self, *args, **kwargs):\n",
    "        if not self._inst:\n",
    "            raise TypeError(f\"Type {self._name} cannot be instantiated; \")\n",
    "        result = self.__origin__(*args, **kwargs)\n",
    "        try:\n",
    "            result.__orig_class__ = self\n",
    "        # Some objects raise TypeError (or something even more exotic)\n",
    "        # if you try to set attributes on them; we guard against that here\n",
    "        except Exception:\n",
    "            pass\n",
    "        return result\n",
    "\n",
    "    @trace\n",
    "    def __mro_entries__(self, bases):\n",
    "        res = []\n",
    "        if self.__origin__ not in bases:\n",
    "            res.append(self.__origin__)\n",
    "        i = bases.index(self)\n",
    "        for b in bases[i + 1 :]:\n",
    "            if isinstance(b, _BaseGenericAlias) or issubclass(b, Generic):\n",
    "                break\n",
    "        else:\n",
    "            res.append(Generic)\n",
    "        return tuple(res)\n",
    "\n",
    "    @trace\n",
    "    def __getattr__(self, attr):\n",
    "        if attr in {\"__name__\", \"__qualname__\"}:\n",
    "            return self._name or self.__origin__.__name__\n",
    "\n",
    "        # We are careful for copy and pickle.\n",
    "        # Also for simplicity we don't relay any dunder names\n",
    "        if \"__origin__\" in self.__dict__ and not _is_dunder(attr):\n",
    "            return getattr(self.__origin__, attr)\n",
    "        raise AttributeError(attr)\n",
    "\n",
    "    @trace\n",
    "    def __setattr__(self, attr, val):\n",
    "        if _is_dunder(attr) or attr in {\"_name\", \"_inst\", \"_nparams\", \"_paramspec_tvars\"}:\n",
    "            super().__setattr__(attr, val)\n",
    "        else:\n",
    "            setattr(self.__origin__, attr, val)\n",
    "\n",
    "    @trace\n",
    "    def __instancecheck__(self, obj):\n",
    "        return self.__subclasscheck__(type(obj))\n",
    "\n",
    "    @trace\n",
    "    def __subclasscheck__(self, cls):\n",
    "        raise TypeError(\"Subscripted generics cannot be used with\" \" class and instance checks\")\n",
    "\n",
    "    @trace\n",
    "    def __dir__(self):\n",
    "        return list(\n",
    "            set(\n",
    "                super().__dir__() + [attr for attr in dir(self.__origin__) if not _is_dunder(attr)]\n",
    "            )\n",
    "        )\n",
    "\n",
    "\n",
    "class Generic:\n",
    "    @trace\n",
    "    def __init__(self, origin, *, inst=True, name=None):\n",
    "        self._inst = inst\n",
    "        self._name = name\n",
    "        self.__origin__ = origin\n",
    "        self.__slots__ = None  # This is not documented.\n",
    "\n",
    "    @trace\n",
    "    def __call__(self, *args, **kwargs):\n",
    "        if not self._inst:\n",
    "            raise TypeError(f\"Type {self._name} cannot be instantiated; \")\n",
    "        result = self.__origin__(*args, **kwargs)\n",
    "        try:\n",
    "            result.__orig_class__ = self\n",
    "        # Some objects raise TypeError (or something even more exotic)\n",
    "        # if you try to set attributes on them; we guard against that here\n",
    "        except Exception:\n",
    "            pass\n",
    "        return result\n",
    "\n",
    "    @trace\n",
    "    def __getitem__(self, arg):\n",
    "        return type(object)\n",
    "\n",
    "    @trace\n",
    "    def __class_getitem__(cls, params):\n",
    "        return type(object)\n",
    "\n",
    "    @trace\n",
    "    def __init_subclass__(cls, *args, **kwargs):\n",
    "        super().__init_subclass__(*args, **kwargs)\n",
    "\n",
    "    @trace\n",
    "    def __instancecheck__(self, obj):\n",
    "        return self.__subclasscheck__(type(obj))\n",
    "\n",
    "    @trace\n",
    "    def __subclasscheck__(self, cls):\n",
    "        raise TypeError(\"Subscripted generics cannot be used with\" \" class and instance checks\")\n",
    "\n",
    "\n",
    "###########################################\n",
    "print(\"step 1 -------------------\")\n",
    "T = TypeVar(\"T\")\n",
    "\n",
    "print(\"step 2 -------------------\")\n",
    "\n",
    "Generic[int]\n",
    "\n",
    "\n",
    "# class MyGenericClass(Generic[T]):\n",
    "class MyGenericClass(Generic[int]):\n",
    "    _type_T: Any\n",
    "\n",
    "    @trace\n",
    "    def __init_subclass__(cls) -> None:\n",
    "        cls._type_T = get_args(cls.__orig_bases__[0])[0]  # type: ignore\n",
    "\n",
    "\n",
    "print(\"step 3 -------------------\")\n",
    "\n",
    "\n",
    "class SomeBaseClass(MyGenericClass[int]):\n",
    "    @trace\n",
    "    def __init__(self) -> None:\n",
    "        print(self._type_T)\n",
    "\n",
    "\n",
    "print(\"step 4 -------------------\")\n",
    "\n",
    "print(repr(SomeBaseClass))\n",
    "\n",
    "print(\"step 5 -------------------\")\n",
    "print(SomeBaseClass())"
   ]
  }
 ],
 "metadata": {
  "kernelspec": {
   "display_name": ".venv",
   "language": "python",
   "name": "python3"
  },
  "language_info": {
   "codemirror_mode": {
    "name": "ipython",
    "version": 3
   },
   "file_extension": ".py",
   "mimetype": "text/x-python",
   "name": "python",
   "nbconvert_exporter": "python",
   "pygments_lexer": "ipython3",
   "version": "3.11.9"
  }
 },
 "nbformat": 4,
 "nbformat_minor": 2
}

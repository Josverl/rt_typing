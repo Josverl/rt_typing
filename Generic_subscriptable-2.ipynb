{
 "cells": [
  {
   "cell_type": "markdown",
   "metadata": {},
   "source": [
    "See: \n",
    "\n",
    "\n",
    "https://docs.python.org/3/reference/datamodel.html#emulating-generic-types\n",
    "\n",
    "\n",
    "\n",
    "neither `__class_getitem__` nor `metaclass` are currently implemented in MicroPython\n"
   ]
  },
  {
   "cell_type": "code",
   "execution_count": 11,
   "metadata": {},
   "outputs": [],
   "source": [
    "# python\n",
    "from typing import Dict, TypeVar\n",
    "\n",
    "T = TypeVar(\"T\")\n",
    "\n",
    "DEBUG = True\n",
    "\n",
    "\n",
    "def trace(func):\n",
    "    if DEBUG:\n",
    "\n",
    "        def wrapper(*args, **kwargs):\n",
    "            print(f\"Trace: {func.__qualname__} called with args={args}, kwargs={kwargs}\")\n",
    "            return func(*args, **kwargs)\n",
    "\n",
    "        return wrapper\n",
    "    else:\n",
    "        return func"
   ]
  },
  {
   "cell_type": "code",
   "execution_count": 12,
   "metadata": {},
   "outputs": [
    {
     "name": "stdout",
     "output_type": "stream",
     "text": [
      "Trace: __Ignore.__init__ called with args=(<__main__.__Ignore object at 0x000002822AB9B090>,), kwargs={}\n"
     ]
    }
   ],
   "source": [
    "from __future__ import annotations\n",
    "\n",
    "\n",
    "class __AC:\n",
    "    \"\"\"A class to ignore type hints in code.\"\"\"\n",
    "\n",
    "    @trace\n",
    "    def __init__(*args, **kwargs):\n",
    "        pass\n",
    "\n",
    "    @trace\n",
    "    def __call__(*args, **kwargs):\n",
    "        # May need some guardrails here\n",
    "        pass\n",
    "\n",
    "\n",
    "class __Ignore:\n",
    "    \"\"\"A class to ignore type hints in code.\"\"\"\n",
    "\n",
    "    @trace\n",
    "    def __init__(*args, **kwargs):\n",
    "        pass\n",
    "\n",
    "    @trace\n",
    "    def __call__(*args, **kwargs):\n",
    "        # May need some guardrails here\n",
    "        pass\n",
    "\n",
    "    @trace\n",
    "    def __class_getitem__(cls, arg):\n",
    "        # fixes: type '__Ignore' is not subscriptable\n",
    "        return cls\n",
    "\n",
    "    @trace\n",
    "    def __getitem__(self, arg):\n",
    "        # May need some guardrails here\n",
    "        return __ignore\n",
    "\n",
    "    @trace\n",
    "    def __getattr__(self, name):\n",
    "        if name in self.__dict__:\n",
    "            return self.__dict__[name]\n",
    "        return __ignore\n",
    "\n",
    "\n",
    "__ignore = __Ignore()\n",
    "\n",
    "Generic = __Ignore"
   ]
  },
  {
   "cell_type": "code",
   "execution_count": null,
   "metadata": {},
   "outputs": [
    {
     "name": "stdout",
     "output_type": "stream",
     "text": [
      "42\n"
     ]
    }
   ],
   "source": [
    "# %%micropython\n",
    "\n",
    "from typing import Final\n",
    "\n",
    "CONST: Final = 42\n",
    "\n",
    "\n",
    "print(CONST)"
   ]
  },
  {
   "cell_type": "code",
   "execution_count": 13,
   "metadata": {},
   "outputs": [
    {
     "name": "stdout",
     "output_type": "stream",
     "text": [
      "Trace: __Ignore.__class_getitem__ called with args=(<class '__main__.__Ignore'>, ~T), kwargs={}\n"
     ]
    },
    {
     "ename": "TypeError",
     "evalue": "'classmethod' object is not callable",
     "output_type": "error",
     "traceback": [
      "\u001b[1;31m---------------------------------------------------------------------------\u001b[0m",
      "\u001b[1;31mTypeError\u001b[0m                                 Traceback (most recent call last)",
      "Cell \u001b[1;32mIn[13], line 1\u001b[0m\n\u001b[1;32m----> 1\u001b[0m \u001b[38;5;28;01mclass\u001b[39;00m \u001b[38;5;21;01mRegistry\u001b[39;00m(\u001b[43mGeneric\u001b[49m\u001b[43m[\u001b[49m\u001b[43mT\u001b[49m\u001b[43m]\u001b[49m):\n\u001b[0;32m      2\u001b[0m     \u001b[38;5;28;01mdef\u001b[39;00m \u001b[38;5;21m__init__\u001b[39m(\u001b[38;5;28mself\u001b[39m) \u001b[38;5;241m-\u001b[39m\u001b[38;5;241m>\u001b[39m \u001b[38;5;28;01mNone\u001b[39;00m:\n\u001b[0;32m      3\u001b[0m         \u001b[38;5;28mself\u001b[39m\u001b[38;5;241m.\u001b[39m_store: Dict[\u001b[38;5;28mstr\u001b[39m, T] \u001b[38;5;241m=\u001b[39m {}\n",
      "Cell \u001b[1;32mIn[12], line 21\u001b[0m, in \u001b[0;36mClassGetItemMeta.__getitem__\u001b[1;34m(cls, item)\u001b[0m\n\u001b[0;32m     20\u001b[0m \u001b[38;5;28;01mdef\u001b[39;00m \u001b[38;5;21m__getitem__\u001b[39m(\u001b[38;5;28mcls\u001b[39m, item):\n\u001b[1;32m---> 21\u001b[0m     \u001b[38;5;28;01mreturn\u001b[39;00m \u001b[38;5;28;43mcls\u001b[39;49m\u001b[38;5;241;43m.\u001b[39;49m\u001b[43m__class_getitem__\u001b[49m\u001b[43m(\u001b[49m\u001b[43mitem\u001b[49m\u001b[43m)\u001b[49m\n",
      "Cell \u001b[1;32mIn[11], line 11\u001b[0m, in \u001b[0;36mtrace.<locals>.wrapper\u001b[1;34m(*args, **kwargs)\u001b[0m\n\u001b[0;32m      9\u001b[0m \u001b[38;5;28;01mdef\u001b[39;00m \u001b[38;5;21mwrapper\u001b[39m(\u001b[38;5;241m*\u001b[39margs, \u001b[38;5;241m*\u001b[39m\u001b[38;5;241m*\u001b[39mkwargs):\n\u001b[0;32m     10\u001b[0m     \u001b[38;5;28mprint\u001b[39m(\u001b[38;5;124mf\u001b[39m\u001b[38;5;124m\"\u001b[39m\u001b[38;5;124mTrace: \u001b[39m\u001b[38;5;132;01m{\u001b[39;00mfunc\u001b[38;5;241m.\u001b[39m\u001b[38;5;18m__qualname__\u001b[39m\u001b[38;5;132;01m}\u001b[39;00m\u001b[38;5;124m called with args=\u001b[39m\u001b[38;5;132;01m{\u001b[39;00margs\u001b[38;5;132;01m}\u001b[39;00m\u001b[38;5;124m, kwargs=\u001b[39m\u001b[38;5;132;01m{\u001b[39;00mkwargs\u001b[38;5;132;01m}\u001b[39;00m\u001b[38;5;124m\"\u001b[39m)\n\u001b[1;32m---> 11\u001b[0m     \u001b[38;5;28;01mreturn\u001b[39;00m \u001b[43mfunc\u001b[49m\u001b[43m(\u001b[49m\u001b[38;5;241;43m*\u001b[39;49m\u001b[43margs\u001b[49m\u001b[43m,\u001b[49m\u001b[43m \u001b[49m\u001b[38;5;241;43m*\u001b[39;49m\u001b[38;5;241;43m*\u001b[39;49m\u001b[43mkwargs\u001b[49m\u001b[43m)\u001b[49m\n",
      "\u001b[1;31mTypeError\u001b[0m: 'classmethod' object is not callable"
     ]
    }
   ],
   "source": [
    "class Registry(Generic[T]):\n",
    "    def __init__(self) -> None:\n",
    "        self._store: Dict[str, T] = {}\n",
    "\n",
    "    def set_item(self, k: str, v: T) -> None:\n",
    "        self._store[k] = v\n",
    "\n",
    "    def get_item(self, k: str) -> T:\n",
    "        return self._store[k]"
   ]
  },
  {
   "cell_type": "code",
   "execution_count": 15,
   "metadata": {},
   "outputs": [
    {
     "name": "stdout",
     "output_type": "stream",
     "text": [
      "Current ip.InteractiveTB.mode='Context'\n",
      "New ip.InteractiveTB.mode='Minimal'\n"
     ]
    }
   ],
   "source": [
    "%load_ext micropython_magic"
   ]
  },
  {
   "cell_type": "code",
   "execution_count": 20,
   "metadata": {},
   "outputs": [
    {
     "name": "stdout",
     "output_type": "stream",
     "text": [
      "\u001b[33m\u001b[1mWARNING \u001b[0m | \u001b[33m\u001b[1mTraceback (most recent call last):\u001b[0m\n",
      "\u001b[33m\u001b[1mWARNING \u001b[0m | \u001b[33m\u001b[1m  File \"<stdin>\", line 14, in <module>\u001b[0m\n",
      "\u001b[31m\u001b[1mERROR   \u001b[0m | \u001b[31m\u001b[1mTypeError: 'type' object isn't subscriptable\n",
      "\u001b[0m\n",
      "\u001b[33m\u001b[1mWARNING \u001b[0m | \u001b[33m\u001b[1mb'0.01s - Debugger warning: It seems that frozen modules are being used, which may\\r\\n'\u001b[0m\n",
      "\u001b[33m\u001b[1mWARNING \u001b[0m | \u001b[33m\u001b[1mb'0.00s - make the debugger miss breakpoints. Please pass -Xfrozen_modules=off\\r\\n'\u001b[0m\n",
      "\u001b[33m\u001b[1mWARNING \u001b[0m | \u001b[33m\u001b[1mb'0.00s - to python to disable frozen modules.\\r\\n'\u001b[0m\n",
      "\u001b[33m\u001b[1mWARNING \u001b[0m | \u001b[33m\u001b[1mb'0.00s - Note: Debugging will proceed. Set PYDEVD_DISABLE_FILE_VALIDATION=1 to disable this validation.\\r\\n'\u001b[0m\n"
     ]
    },
    {
     "ename": "MCUException",
     "evalue": "TypeError: 'type' object isn't subscriptable\r\n",
     "output_type": "error",
     "traceback": [
      "\u001b[1;31mMCUException\u001b[0m\u001b[1;31m:\u001b[0m TypeError: 'type' object isn't subscriptable\r\n\n"
     ]
    }
   ],
   "source": [
    "# %%micropython\n",
    "\n",
    "\n",
    "# Example class without using a metaclass\n",
    "class MyClass:\n",
    "    @classmethod\n",
    "    def __class_getitem__(cls, item):\n",
    "        return f\"Class item: {item}\"\n",
    "\n",
    "    @classmethod\n",
    "    def __getitem__(cls, item):\n",
    "        return cls.__class_getitem__(item)\n",
    "\n",
    "\n",
    "# Usage\n",
    "print(MyClass[\"example\"])"
   ]
  }
 ],
 "metadata": {
  "kernelspec": {
   "display_name": ".venv",
   "language": "python",
   "name": "python3"
  },
  "language_info": {
   "codemirror_mode": {
    "name": "ipython",
    "version": 3
   },
   "file_extension": ".py",
   "mimetype": "text/x-python",
   "name": "python",
   "nbconvert_exporter": "python",
   "pygments_lexer": "ipython3",
   "version": "3.11.9"
  }
 },
 "nbformat": 4,
 "nbformat_minor": 2
}

{
 "cells": [
  {
   "cell_type": "code",
   "execution_count": 18,
   "metadata": {},
   "outputs": [],
   "source": [
    "%%capture --no-stderr --no-display\n",
    "%load_ext micropython_magic"
   ]
  },
  {
   "cell_type": "code",
   "execution_count": 19,
   "metadata": {},
   "outputs": [
    {
     "name": "stdout",
     "output_type": "stream",
     "text": [
      "['abc.mpy', 'lib', 'src', 'test.py', 'typing.mpy']\n",
      "{'typing': <module 'typing' from 'typing.mpy'>, 'collections': <module 'collections' from '/lib/collections/__init__.mpy'>, '__future__': <module '__future__' from '/lib/__future__.mpy'>, 'collections.abc': <module 'collections.abc' from '/lib/collections/abc.mpy'>, 'abc': <module 'abc' from 'abc.mpy'>, 'typing_extensions': <module 'typing_extensions' from '/lib/typing_extensions.mpy'>, 'rp2': <module 'rp2' from 'rp2.py'>}\n"
     ]
    }
   ],
   "source": [
    "# %%micropython\n",
    "import os, sys\n",
    "\n",
    "print(os.listdir())\n",
    "print(sys.modules)"
   ]
  },
  {
   "cell_type": "code",
   "execution_count": 20,
   "metadata": {},
   "outputs": [],
   "source": [
    "# %%micropython\n",
    "\n",
    "from abc import ABC, abstractmethod\n",
    "from math import pi\n",
    "\n",
    "\n",
    "class Shape(ABC):\n",
    "    @abstractmethod\n",
    "    def get_area(self) -> float:\n",
    "        pass\n",
    "\n",
    "    @abstractmethod\n",
    "    def get_perimeter(self) -> float:\n",
    "        pass\n",
    "\n",
    "\n",
    "class Circle(Shape):\n",
    "    def __init__(self, radius) -> None:\n",
    "        self.radius = radius\n",
    "\n",
    "    def get_area(self) -> float:\n",
    "        return pi * self.radius**2\n",
    "\n",
    "    def get_perimeter(self) -> float:\n",
    "        return 2 * pi * self.radius\n",
    "\n",
    "\n",
    "class Square(Shape):\n",
    "    def __init__(self, side) -> None:\n",
    "        self.side = side\n",
    "\n",
    "    def get_area(self) -> float:\n",
    "        return self.side**2\n",
    "\n",
    "    def get_perimeter(self) -> float:\n",
    "        return 4 * self.side"
   ]
  },
  {
   "cell_type": "code",
   "execution_count": 21,
   "metadata": {},
   "outputs": [
    {
     "name": "stdout",
     "output_type": "stream",
     "text": [
      "OK - Intentional no runtime check: 'int' object has no attribute 'upper'\n"
     ]
    }
   ],
   "source": [
    "# %%micropython\n",
    "\n",
    "from __future__ import annotations\n",
    "\n",
    "from typing import cast\n",
    "from typing_extensions import reveal_type\n",
    "\n",
    "x = 1\n",
    "reveal_type(x)\n",
    "y = cast(str, x)\n",
    "reveal_type(y)\n",
    "try:\n",
    "    y.upper()\n",
    "except AttributeError as e:\n",
    "    # https://docs.python.org/3/library/typing.html#typing.cast\n",
    "    print(f\"OK - Intentional no runtime check: {e}\")"
   ]
  },
  {
   "cell_type": "code",
   "execution_count": 22,
   "metadata": {},
   "outputs": [],
   "source": [
    "# %%micropython\n",
    "\n",
    "from typing import Dict, ParamSpec, Union, get_origin\n",
    "\n",
    "\n",
    "# https://docs.python.org/3/library/typing.html#typing.get_origin\n",
    "\n",
    "assert get_origin(str) is None, \"str\"\n",
    "\n",
    "# Partial implementation of get_origin\n",
    "\n",
    "# assert get_origin(Dict[str, int]) is dict, \"Dict\"\n",
    "# assert get_origin(Union[int, str]) is Union, \"Union\"\n",
    "# P = ParamSpec(\"P\")\n",
    "# assert get_origin(P.args) is P, \"ParamSpec args\"\n",
    "# assert get_origin(P.kwargs) is P, \"ParamSpec kwargs\""
   ]
  },
  {
   "cell_type": "code",
   "execution_count": 43,
   "metadata": {},
   "outputs": [
    {
     "name": "stdout",
     "output_type": "stream",
     "text": [
      "add_two was called\n",
      "3\n"
     ]
    }
   ],
   "source": [
    "# %%micropython\n",
    "\n",
    "# ParamSpec, 3.11 notation\n",
    "# https://docs.python.org/3/library/typing.html#typing.ParamSpec\n",
    "\n",
    "from collections.abc import Callable\n",
    "from typing import TypeVar, ParamSpec\n",
    "\n",
    "T = TypeVar('T')\n",
    "P = ParamSpec('P')\n",
    "\n",
    "def add_logging(f: Callable[P, T]) -> Callable[P, T]:\n",
    "    '''A type-safe decorator to add logging to a function.'''\n",
    "    def inner(*args: P.args, **kwargs: P.kwargs) -> T:\n",
    "        print(f'{f.__name__} was called')\n",
    "        return f(*args, **kwargs)\n",
    "    return inner\n",
    "\n",
    "@add_logging\n",
    "def add_two(x: float, y: float) -> float:\n",
    "    '''Add two numbers together.'''\n",
    "    return x + y\n",
    "\n",
    "x = add_two(1, 2)\n",
    "print(x)"
   ]
  },
  {
   "cell_type": "code",
   "execution_count": 23,
   "metadata": {},
   "outputs": [],
   "source": [
    "# %%micropython\n",
    "from typing import get_args\n",
    "\n",
    "# partial implementation of get_args\n",
    "assert get_args(int) == ()\n",
    "# assert get_args(Dict[int, str]) == (int, str)\n",
    "# assert get_args(Union[int, str]) == (int, str)"
   ]
  },
  {
   "cell_type": "code",
   "execution_count": 24,
   "metadata": {},
   "outputs": [
    {
     "name": "stdout",
     "output_type": "stream",
     "text": [
      "42\n"
     ]
    }
   ],
   "source": [
    "# %%micropython\n",
    "\n",
    "from typing import no_type_check\n",
    "\n",
    "\n",
    "@no_type_check\n",
    "def foo(x: int) -> str:\n",
    "    return x\n",
    "\n",
    "\n",
    "print(foo(\"42\"))"
   ]
  },
  {
   "cell_type": "code",
   "execution_count": 25,
   "metadata": {},
   "outputs": [
    {
     "name": "stdout",
     "output_type": "stream",
     "text": [
      "42\n"
     ]
    }
   ],
   "source": [
    "# %%micropython\n",
    "\n",
    "from typing import overload\n",
    "\n",
    "\n",
    "@overload\n",
    "def bar(x: int) -> str: ...\n",
    "\n",
    "\n",
    "@overload\n",
    "def bar(x: str) -> int: ...\n",
    "\n",
    "\n",
    "def bar(x):\n",
    "    return x\n",
    "\n",
    "\n",
    "print(bar(42))"
   ]
  },
  {
   "cell_type": "code",
   "execution_count": 26,
   "metadata": {},
   "outputs": [
    {
     "name": "stdout",
     "output_type": "stream",
     "text": [
      "524313\n"
     ]
    }
   ],
   "source": [
    "# %%micropython\n",
    "\n",
    "from typing import NewType\n",
    "\n",
    "UserId = NewType(\"UserId\", int)\n",
    "some_id = UserId(524313)\n",
    "\n",
    "print(some_id)\n",
    "\n",
    "assert isinstance(some_id, int)"
   ]
  },
  {
   "cell_type": "code",
   "execution_count": 27,
   "metadata": {},
   "outputs": [],
   "source": [
    "# %%micropython\n",
    "\n",
    "import os\n",
    "\n",
    "try:\n",
    "    os.mkdir(\"collections\")\n",
    "except OSError as e:\n",
    "    pass"
   ]
  },
  {
   "cell_type": "code",
   "execution_count": 28,
   "metadata": {},
   "outputs": [
    {
     "name": "stdout",
     "output_type": "stream",
     "text": [
      "['__class__', '__name__', '__dict__', '__file__', '__path__', 'abc']\n",
      "{'__path__': '/lib/collections', 'abc': <module 'collections.abc' from '/lib/collections/abc.mpy'>, '__name__': 'collections', '__file__': '/lib/collections/__init__.mpy'}\n"
     ]
    }
   ],
   "source": [
    "# %%micropython\n",
    "import collections\n",
    "print(dir(collections))\n",
    "print(collections.__dict__)"
   ]
  },
  {
   "cell_type": "code",
   "execution_count": 29,
   "metadata": {},
   "outputs": [],
   "source": [
    "# %%micropython\n",
    "from collections.abc import Callable, Awaitable\n",
    "\n",
    "\n",
    "def feeder(get_next_item: Callable[[], str]) -> None: ...  # Body\n",
    "\n",
    "\n",
    "def async_query(\n",
    "    on_success: Callable[[int], None], on_error: Callable[[int, Exception], None]\n",
    ") -> None: ...  # Body\n",
    "\n",
    "\n",
    "async def on_update(value: str) -> None: ...  # Body\n",
    "\n",
    "\n",
    "callback: Callable[[str], Awaitable[None]] = on_update\n",
    "\n",
    "# ...\n",
    "\n",
    "\n",
    "def concat(x: str, y: str) -> str:\n",
    "    return x + y\n",
    "\n",
    "\n",
    "x: Callable[..., str]\n",
    "x = str  # OK\n",
    "x = concat  # Also OK\n",
    "\n",
    "\n",
    "# ####\n",
    "\n",
    "from collections.abc import Iterable\n",
    "from typing import Protocol\n",
    "\n",
    "\n",
    "class Combiner(Protocol):\n",
    "    def __call__(self, *vals: bytes, maxlen: int | None = None) -> list[bytes]: ...\n",
    "\n",
    "\n",
    "def batch_proc(data: Iterable[bytes], cb_results: Combiner) -> bytes:\n",
    "    for item in data:\n",
    "        ...\n",
    "\n",
    "\n",
    "def good_cb(*vals: bytes, maxlen: int | None = None) -> list[bytes]: ...\n",
    "\n",
    "\n",
    "batch_proc([], good_cb)  # OK"
   ]
  },
  {
   "cell_type": "code",
   "execution_count": 30,
   "metadata": {},
   "outputs": [],
   "source": [
    "# %%micropython\n",
    "import os"
   ]
  },
  {
   "cell_type": "code",
   "execution_count": 31,
   "metadata": {},
   "outputs": [],
   "source": [
    "# %%micropython\n",
    "# https://docs.python.org/3/library/typing.html#generics\n",
    "\n",
    "from collections.abc import Mapping, Sequence\n",
    "\n",
    "\n",
    "class Employee: ...\n",
    "\n",
    "\n",
    "# Sequence[Employee] indicates that all elements in the sequence\n",
    "# must be instances of \"Employee\".\n",
    "# Mapping[str, str] indicates that all keys and all values in the mapping\n",
    "# must be strings.\n",
    "def notify_by_email(employees: Sequence[Employee], overrides: Mapping[str, str]) -> None: ..."
   ]
  },
  {
   "cell_type": "code",
   "execution_count": 32,
   "metadata": {},
   "outputs": [],
   "source": [
    "# %%micropython\n",
    "\n",
    "\n",
    "from collections.abc import Mapping\n",
    "\n",
    "# Type checker will infer that all elements in ``x`` are meant to be ints\n",
    "x: list[int] = []\n",
    "\n",
    "# Type checker error: ``list`` only accepts a single type argument:\n",
    "y: list[int, str] = [1, \"foo\"]\n",
    "\n",
    "# Type checker will infer that all keys in ``z`` are meant to be strings,\n",
    "# and that all values in ``z`` are meant to be either strings or ints\n",
    "z: Mapping[str, str | int] = {}"
   ]
  },
  {
   "cell_type": "code",
   "execution_count": 33,
   "metadata": {},
   "outputs": [
    {
     "name": "stdout",
     "output_type": "stream",
     "text": [
      "0\n"
     ]
    }
   ],
   "source": [
    "# %%micropython\n",
    "\n",
    "from typing import Generator\n",
    "\n",
    "\n",
    "def echo_round() -> Generator[int, float, str]:\n",
    "    sent = yield 0\n",
    "    while sent >= 0:\n",
    "        sent = yield round(sent)\n",
    "    return \"Done\"\n",
    "\n",
    "\n",
    "e = echo_round()\n",
    "print(next(e))"
   ]
  },
  {
   "cell_type": "code",
   "execution_count": 34,
   "metadata": {},
   "outputs": [],
   "source": [
    "# %%micropython\n",
    "\n",
    "from typing import Any\n",
    "\n",
    "a: Any = None\n",
    "a = []  # OK\n",
    "a = 2  # OK\n",
    "\n",
    "s: str = \"\"\n",
    "s = a  # OK\n",
    "\n",
    "\n",
    "def foo(item: Any) -> int:\n",
    "    # Passes type checking; 'item' could be any type,\n",
    "    # and that type might have a 'bar' method\n",
    "    item.bar()\n",
    "    return 42\n",
    "\n",
    "\n",
    "def hash_b(item: Any) -> int:\n",
    "    try:\n",
    "        # Passes type checking\n",
    "        item.magic()\n",
    "    except AttributeError:\n",
    "        # just ignore any error for this test\n",
    "        pass\n",
    "    ...\n",
    "\n",
    "\n",
    "# Passes type checking, since Any is compatible with all types\n",
    "hash_b(42)\n",
    "hash_b(\"foo\")"
   ]
  },
  {
   "cell_type": "code",
   "execution_count": 35,
   "metadata": {},
   "outputs": [
    {
     "name": "stdout",
     "output_type": "stream",
     "text": [
      "OK, expected: unsupported types for __add__: 'str', 'bytes'\n"
     ]
    }
   ],
   "source": [
    "# %%micropython\n",
    "\n",
    "from typing import AnyStr\n",
    "\n",
    "\n",
    "def concat(a: AnyStr, b: AnyStr) -> AnyStr:\n",
    "    return a + b\n",
    "\n",
    "\n",
    "concat(\"foo\", \"bar\")  # OK, output has type 'str'\n",
    "concat(b\"foo\", b\"bar\")  # OK, output has type 'bytes'\n",
    "try:\n",
    "    concat(\"foo\", b\"bar\")  # Error, cannot mix str and bytes\n",
    "except TypeError as e:\n",
    "    print(\"OK, expected:\", e)"
   ]
  },
  {
   "cell_type": "code",
   "execution_count": 36,
   "metadata": {},
   "outputs": [],
   "source": [
    "# %%micropython\n",
    "\n",
    "from typing import LiteralString\n",
    "\n",
    "\n",
    "def run_query(sql: LiteralString) -> None: ...\n",
    "\n",
    "\n",
    "def caller(arbitrary_string: str, literal_string: LiteralString) -> None:\n",
    "    run_query(\"SELECT * FROM students\")  # OK\n",
    "    run_query(literal_string)  # OK\n",
    "    run_query(\"SELECT * FROM \" + literal_string)  # OK\n",
    "    run_query(arbitrary_string)  # type checker error\n",
    "    run_query(f\"SELECT * FROM students WHERE name = {arbitrary_string}\")  # type checker error\n",
    "\n",
    "\n",
    "some_str = \"a\" * 1000\n",
    "literal_str = \"drop * from tables\"\n",
    "\n",
    "caller(some_str, literal_str)"
   ]
  },
  {
   "cell_type": "code",
   "execution_count": 37,
   "metadata": {},
   "outputs": [],
   "source": [
    "# %%micropython\n",
    "\n",
    "from typing import NoReturn\n",
    "\n",
    "\n",
    "def stop() -> NoReturn:\n",
    "    raise RuntimeError(\"no way\")"
   ]
  },
  {
   "cell_type": "code",
   "execution_count": 38,
   "metadata": {},
   "outputs": [
    {
     "name": "stdout",
     "output_type": "stream",
     "text": [
      "None\n",
      "None\n"
     ]
    }
   ],
   "source": [
    "# %%micropython\n",
    "\n",
    "from typing import Self, reveal_type\n",
    "\n",
    "\n",
    "class Foo:\n",
    "    def return_self(self) -> Self:\n",
    "        ...\n",
    "        return self\n",
    "\n",
    "\n",
    "class SubclassOfFoo(Foo):\n",
    "    pass\n",
    "\n",
    "\n",
    "print(reveal_type(Foo().return_self()))  # Revealed type is \"Foo\"\n",
    "print(reveal_type(SubclassOfFoo().return_self()))  # Revealed type is \"SubclassOfFoo\""
   ]
  },
  {
   "cell_type": "code",
   "execution_count": 48,
   "metadata": {},
   "outputs": [
    {
     "name": "stdout",
     "output_type": "stream",
     "text": [
      "TODO: Add some tests\n"
     ]
    }
   ],
   "source": [
    "# %%micropython\n",
    "\n",
    "# ABCs for working with IO\n",
    "# Generic type IO[AnyStr] and its subclasses TextIO(IO[str]) and BinaryIO(IO[bytes]) represent the types of I/O streams such as returned by open().\n",
    "\n",
    "from typing import IO\n",
    "from typing import TextIO\n",
    "from typing import BinaryIO\n",
    "\n",
    "print(\"TODO: Add some tests\")"
   ]
  },
  {
   "cell_type": "code",
   "execution_count": 56,
   "metadata": {},
   "outputs": [
    {
     "name": "stdout",
     "output_type": "stream",
     "text": [
      "@runtime_checkable, not supported: issubclass() arg 2 must be a class or a tuple of classes\n"
     ]
    }
   ],
   "source": [
    "# %%micropython\n",
    "\n",
    "from typing import runtime_checkable, Protocol\n",
    "\n",
    "@runtime_checkable\n",
    "class Closable(Protocol):\n",
    "    def close(self): ...\n",
    "\n",
    "try:\n",
    "    assert isinstance(open('lib/typing.mpy'), Closable)\n",
    "except TypeError as e:\n",
    "    print(f\"@runtime_checkable, not supported: {e}\")\n"
   ]
  },
  {
   "cell_type": "code",
   "execution_count": 39,
   "metadata": {},
   "outputs": [
    {
     "name": "stdout",
     "output_type": "stream",
     "text": [
      "OK, 3.12 syntax not supported\n"
     ]
    }
   ],
   "source": [
    "# %%micropython\n",
    "\n",
    "# 3.12 type parameter syntax\n",
    "# https://docs.python.org/3/reference/simple_stmts.html#the-type-statement\n",
    "\n",
    "\n",
    "# type Point = tuple[float, float]\n",
    "\n",
    "print(\"OK, 3.12 syntax not supported\")"
   ]
  },
  {
   "cell_type": "code",
   "execution_count": 55,
   "metadata": {},
   "outputs": [
    {
     "name": "stdout",
     "output_type": "stream",
     "text": [
      "OK, 3.12 syntax not supported\n"
     ]
    }
   ],
   "source": [
    "# %%micropython\n",
    "\n",
    "# 3.12 type parameter syntax not supported\n",
    "\n",
    "# from collections.abc import Sequence\n",
    "\n",
    "# def first[T](l: Sequence[T]) -> T:  # Function is generic over the TypeVar \"T\"\n",
    "#     return l[0]\n",
    "\n",
    "# from collections.abc import Sequence\n",
    "# from typing import TypeVar\n",
    "\n",
    "# U = TypeVar('U')                  # Declare type variable \"U\"\n",
    "\n",
    "# def second(l: Sequence[U]) -> U:  # Function is generic over the TypeVar \"U\"\n",
    "\n",
    "print(\"OK, 3.12 syntax not supported\")"
   ]
  },
  {
   "cell_type": "code",
   "execution_count": 54,
   "metadata": {},
   "outputs": [
    {
     "name": "stdout",
     "output_type": "stream",
     "text": [
      "metaclass not supported\n"
     ]
    }
   ],
   "source": [
    "# # %%micropython\n",
    "\n",
    "# from abc import ABCMeta\n",
    "\n",
    "\n",
    "# class MyABC(metaclass=ABCMeta):\n",
    "#     pass\n",
    "\n",
    "print(\"metaclass not supported\")"
   ]
  },
  {
   "cell_type": "code",
   "execution_count": 61,
   "metadata": {},
   "outputs": [
    {
     "name": "stdout",
     "output_type": "stream",
     "text": [
      "True\n"
     ]
    },
    {
     "ename": "MCUException",
     "evalue": "TypeError: can't create 'NoneType' instances\r\n",
     "output_type": "error",
     "traceback": [
      "\u001b[1;31mMCUException\u001b[0m\u001b[1;31m:\u001b[0m TypeError: can't create 'NoneType' instances\r\n\n"
     ]
    }
   ],
   "source": [
    "\n",
    "from typing import final\n",
    "\n",
    "\n",
    "class Base:\n",
    "    @final\n",
    "    def done(self) -> None:\n",
    "        ...\n",
    "class Sub(Base):\n",
    "    def done(self) -> None:  # Error reported by type checker\n",
    "        ...\n",
    "\n",
    "@final\n",
    "class Leaf:\n",
    "    ...\n",
    "class Other(Leaf):  # Error reported by type checker\n",
    "    ...\n",
    "\n",
    "\n",
    "other = Other()\n"
   ]
  },
  {
   "cell_type": "code",
   "execution_count": null,
   "metadata": {},
   "outputs": [],
   "source": []
  }
 ],
 "metadata": {
  "kernelspec": {
   "display_name": ".venv",
   "language": "python",
   "name": "python3"
  },
  "language_info": {
   "codemirror_mode": {
    "name": "ipython",
    "version": 3
   },
   "file_extension": ".py",
   "mimetype": "text/x-python",
   "name": "python",
   "nbconvert_exporter": "python",
   "pygments_lexer": "ipython3",
   "version": "3.11.9"
  }
 },
 "nbformat": 4,
 "nbformat_minor": 2
}
